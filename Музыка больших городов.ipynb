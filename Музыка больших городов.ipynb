{
 "cells": [
  {
   "cell_type": "markdown",
   "metadata": {
    "id": "E0vqbgi9ay0H"
   },
   "source": [
    "# Яндекс.Музыка"
   ]
  },
  {
   "cell_type": "markdown",
   "metadata": {
    "id": "VUC88oWjTJw2"
   },
   "source": [
    "Сравнение Москвы и Петербурга окружено мифами. Например:\n",
    " * Москва — мегаполис, подчинённый жёсткому ритму рабочей недели;\n",
    " * Петербург — культурная столица, со своими вкусами.\n",
    "\n",
    "На данных Яндекс.Музыки вы сравните поведение пользователей двух столиц.\n",
    "\n",
    "**Цель исследования** — проверьте три гипотезы:\n",
    "1. Активность пользователей зависит от дня недели. Причём в Москве и Петербурге это проявляется по-разному.\n",
    "2. В понедельник утром в Москве преобладают одни жанры, а в Петербурге — другие. Так же и вечером пятницы преобладают разные жанры — в зависимости от города. \n",
    "3. Москва и Петербург предпочитают разные жанры музыки. В Москве чаще слушают поп-музыку, в Петербурге — русский рэп.\n",
    "\n",
    "**Ход исследования**\n",
    "\n",
    "Данные о поведении пользователей вы получите из файла `yandex_music_project.csv`. О качестве данных ничего не известно. Поэтому перед проверкой гипотез понадобится обзор данных. \n",
    "\n",
    "Вы проверите данные на ошибки и оцените их влияние на исследование. Затем, на этапе предобработки вы поищете возможность исправить самые критичные ошибки данных.\n",
    " \n",
    "Таким образом, исследование пройдёт в три этапа:\n",
    " 1. Обзор данных.\n",
    " 2. Предобработка данных.\n",
    " 3. Проверка гипотез.\n",
    "\n"
   ]
  },
  {
   "cell_type": "markdown",
   "metadata": {
    "id": "Ml1hmfXC_Zcs"
   },
   "source": [
    "## Обзор данных\n",
    "\n",
    "Составьте первое представление о данных Яндекс.Музыки.\n",
    "\n",
    "\n"
   ]
  },
  {
   "cell_type": "markdown",
   "metadata": {
    "id": "57eAOGIz_Zcs"
   },
   "source": [
    " **Основной инструмент аналитика — `pandas`. Импортируйте эту библиотеку.**"
   ]
  },
  {
   "cell_type": "code",
   "execution_count": 39,
   "metadata": {
    "id": "AXN7PHPN_Zcs"
   },
   "outputs": [],
   "source": [
    "import pandas as pd # импорт библиотеки pandas"
   ]
  },
  {
   "cell_type": "markdown",
   "metadata": {
    "id": "SG23P8tt_Zcs"
   },
   "source": [
    "**Прочитайте файл `yandex_music_project.csv` из папки `/datasets` и сохраните его в переменной `df`:**"
   ]
  },
  {
   "cell_type": "code",
   "execution_count": 2,
   "metadata": {
    "id": "fFVu7vqh_Zct"
   },
   "outputs": [],
   "source": [
    "df = pd.read_csv(r'C:\\Users\\79324\\Desktop\\Проекты для гитхаба\\yandex_music_project.csv') # чтение файла с данными и сохранение в df"
   ]
  },
  {
   "cell_type": "markdown",
   "metadata": {
    "id": "rDoOMd3uTqnZ"
   },
   "source": [
    "**Выведите на экран первые десять строк таблицы:**"
   ]
  },
  {
   "cell_type": "code",
   "execution_count": 3,
   "metadata": {
    "id": "oWTVX3gW_Zct"
   },
   "outputs": [
    {
     "data": {
      "text/html": [
       "<div>\n",
       "<style scoped>\n",
       "    .dataframe tbody tr th:only-of-type {\n",
       "        vertical-align: middle;\n",
       "    }\n",
       "\n",
       "    .dataframe tbody tr th {\n",
       "        vertical-align: top;\n",
       "    }\n",
       "\n",
       "    .dataframe thead th {\n",
       "        text-align: right;\n",
       "    }\n",
       "</style>\n",
       "<table border=\"1\" class=\"dataframe\">\n",
       "  <thead>\n",
       "    <tr style=\"text-align: right;\">\n",
       "      <th></th>\n",
       "      <th>userID</th>\n",
       "      <th>Track</th>\n",
       "      <th>artist</th>\n",
       "      <th>genre</th>\n",
       "      <th>City</th>\n",
       "      <th>time</th>\n",
       "      <th>Day</th>\n",
       "    </tr>\n",
       "  </thead>\n",
       "  <tbody>\n",
       "    <tr>\n",
       "      <th>0</th>\n",
       "      <td>FFB692EC</td>\n",
       "      <td>Kamigata To Boots</td>\n",
       "      <td>The Mass Missile</td>\n",
       "      <td>rock</td>\n",
       "      <td>Saint-Petersburg</td>\n",
       "      <td>20:28:33</td>\n",
       "      <td>Wednesday</td>\n",
       "    </tr>\n",
       "    <tr>\n",
       "      <th>1</th>\n",
       "      <td>55204538</td>\n",
       "      <td>Delayed Because of Accident</td>\n",
       "      <td>Andreas Rönnberg</td>\n",
       "      <td>rock</td>\n",
       "      <td>Moscow</td>\n",
       "      <td>14:07:09</td>\n",
       "      <td>Friday</td>\n",
       "    </tr>\n",
       "    <tr>\n",
       "      <th>2</th>\n",
       "      <td>20EC38</td>\n",
       "      <td>Funiculì funiculà</td>\n",
       "      <td>Mario Lanza</td>\n",
       "      <td>pop</td>\n",
       "      <td>Saint-Petersburg</td>\n",
       "      <td>20:58:07</td>\n",
       "      <td>Wednesday</td>\n",
       "    </tr>\n",
       "    <tr>\n",
       "      <th>3</th>\n",
       "      <td>A3DD03C9</td>\n",
       "      <td>Dragons in the Sunset</td>\n",
       "      <td>Fire + Ice</td>\n",
       "      <td>folk</td>\n",
       "      <td>Saint-Petersburg</td>\n",
       "      <td>08:37:09</td>\n",
       "      <td>Monday</td>\n",
       "    </tr>\n",
       "    <tr>\n",
       "      <th>4</th>\n",
       "      <td>E2DC1FAE</td>\n",
       "      <td>Soul People</td>\n",
       "      <td>Space Echo</td>\n",
       "      <td>dance</td>\n",
       "      <td>Moscow</td>\n",
       "      <td>08:34:34</td>\n",
       "      <td>Monday</td>\n",
       "    </tr>\n",
       "    <tr>\n",
       "      <th>5</th>\n",
       "      <td>842029A1</td>\n",
       "      <td>Преданная</td>\n",
       "      <td>IMPERVTOR</td>\n",
       "      <td>rusrap</td>\n",
       "      <td>Saint-Petersburg</td>\n",
       "      <td>13:09:41</td>\n",
       "      <td>Friday</td>\n",
       "    </tr>\n",
       "    <tr>\n",
       "      <th>6</th>\n",
       "      <td>4CB90AA5</td>\n",
       "      <td>True</td>\n",
       "      <td>Roman Messer</td>\n",
       "      <td>dance</td>\n",
       "      <td>Moscow</td>\n",
       "      <td>13:00:07</td>\n",
       "      <td>Wednesday</td>\n",
       "    </tr>\n",
       "    <tr>\n",
       "      <th>7</th>\n",
       "      <td>F03E1C1F</td>\n",
       "      <td>Feeling This Way</td>\n",
       "      <td>Polina Griffith</td>\n",
       "      <td>dance</td>\n",
       "      <td>Moscow</td>\n",
       "      <td>20:47:49</td>\n",
       "      <td>Wednesday</td>\n",
       "    </tr>\n",
       "    <tr>\n",
       "      <th>8</th>\n",
       "      <td>8FA1D3BE</td>\n",
       "      <td>И вновь продолжается бой</td>\n",
       "      <td>NaN</td>\n",
       "      <td>ruspop</td>\n",
       "      <td>Moscow</td>\n",
       "      <td>09:17:40</td>\n",
       "      <td>Friday</td>\n",
       "    </tr>\n",
       "    <tr>\n",
       "      <th>9</th>\n",
       "      <td>E772D5C0</td>\n",
       "      <td>Pessimist</td>\n",
       "      <td>NaN</td>\n",
       "      <td>dance</td>\n",
       "      <td>Saint-Petersburg</td>\n",
       "      <td>21:20:49</td>\n",
       "      <td>Wednesday</td>\n",
       "    </tr>\n",
       "  </tbody>\n",
       "</table>\n",
       "</div>"
      ],
      "text/plain": [
       "     userID                        Track            artist   genre  \\\n",
       "0  FFB692EC            Kamigata To Boots  The Mass Missile    rock   \n",
       "1  55204538  Delayed Because of Accident  Andreas Rönnberg    rock   \n",
       "2    20EC38            Funiculì funiculà       Mario Lanza     pop   \n",
       "3  A3DD03C9        Dragons in the Sunset        Fire + Ice    folk   \n",
       "4  E2DC1FAE                  Soul People        Space Echo   dance   \n",
       "5  842029A1                    Преданная         IMPERVTOR  rusrap   \n",
       "6  4CB90AA5                         True      Roman Messer   dance   \n",
       "7  F03E1C1F             Feeling This Way   Polina Griffith   dance   \n",
       "8  8FA1D3BE     И вновь продолжается бой               NaN  ruspop   \n",
       "9  E772D5C0                    Pessimist               NaN   dance   \n",
       "\n",
       "             City        time        Day  \n",
       "0  Saint-Petersburg  20:28:33  Wednesday  \n",
       "1            Moscow  14:07:09     Friday  \n",
       "2  Saint-Petersburg  20:58:07  Wednesday  \n",
       "3  Saint-Petersburg  08:37:09     Monday  \n",
       "4            Moscow  08:34:34     Monday  \n",
       "5  Saint-Petersburg  13:09:41     Friday  \n",
       "6            Moscow  13:00:07  Wednesday  \n",
       "7            Moscow  20:47:49  Wednesday  \n",
       "8            Moscow  09:17:40     Friday  \n",
       "9  Saint-Petersburg  21:20:49  Wednesday  "
      ]
     },
     "execution_count": 3,
     "metadata": {},
     "output_type": "execute_result"
    }
   ],
   "source": [
    "df.head(10) # получение первых 10 строк таблицы df"
   ]
  },
  {
   "cell_type": "markdown",
   "metadata": {
    "id": "EO73Kwic_Zct"
   },
   "source": [
    "**Одной командой получить общую информацию о таблице:**"
   ]
  },
  {
   "cell_type": "code",
   "execution_count": 4,
   "metadata": {
    "id": "DSf2kIb-_Zct"
   },
   "outputs": [
    {
     "name": "stdout",
     "output_type": "stream",
     "text": [
      "<class 'pandas.core.frame.DataFrame'>\n",
      "RangeIndex: 65079 entries, 0 to 65078\n",
      "Data columns (total 7 columns):\n",
      " #   Column    Non-Null Count  Dtype \n",
      "---  ------    --------------  ----- \n",
      " 0     userID  65079 non-null  object\n",
      " 1   Track     63848 non-null  object\n",
      " 2   artist    57876 non-null  object\n",
      " 3   genre     63881 non-null  object\n",
      " 4     City    65079 non-null  object\n",
      " 5   time      65079 non-null  object\n",
      " 6   Day       65079 non-null  object\n",
      "dtypes: object(7)\n",
      "memory usage: 3.5+ MB\n"
     ]
    },
    {
     "data": {
      "text/plain": [
       "None"
      ]
     },
     "metadata": {},
     "output_type": "display_data"
    }
   ],
   "source": [
    " display(df.info()) # получение общей информации о данных в таблице df"
   ]
  },
  {
   "cell_type": "markdown",
   "metadata": {
    "id": "TaQ2Iwbr_Zct"
   },
   "source": [
    "Итак, в таблице семь столбцов. Тип данных во всех столбцах — `object`.\n",
    "\n",
    "Согласно документации к данным:\n",
    "* `userID` — идентификатор пользователя;\n",
    "* `Track` — название трека;  \n",
    "* `artist` — имя исполнителя;\n",
    "* `genre` — название жанра;\n",
    "* `City` — город пользователя;\n",
    "* `time` — время начала прослушивания;\n",
    "* `Day` — день недели.\n",
    "\n",
    "В названиях колонок видны три нарушения стиля:\n",
    "1. Строчные буквы сочетаются с прописными.\n",
    "2. Встречаются пробелы.\n",
    "3. Нужно переписать названия колонок в змеином регистре(user_id)\n",
    "\n",
    "\n",
    "Количество значений в столбцах различается. Значит, в данных есть пропущенные значения.\n"
   ]
  },
  {
   "cell_type": "markdown",
   "metadata": {
    "id": "MCB6-dXG_Zct"
   },
   "source": [
    "**Выводы**\n",
    "\n",
    "В каждой строке таблицы — данные о прослушанном треке. Часть колонок описывает саму композицию: название, исполнителя и жанр. Остальные данные рассказывают о пользователе: из какого он города, когда он слушал музыку. \n",
    "\n",
    "Предварительно можно утверждать, что, данных достаточно для проверки гипотез. Но встречаются пропуски в данных, а в названиях колонок — расхождения с хорошим стилем.\n",
    "\n",
    "Чтобы двигаться дальше, нужно устранить проблемы в данных."
   ]
  },
  {
   "cell_type": "markdown",
   "metadata": {
    "id": "SjYF6Ub9_Zct"
   },
   "source": [
    "## Предобработка данных\n",
    "**Исправьте стиль в заголовках столбцов, исключите пропуски. Затем проверьте данные на дубликаты.**"
   ]
  },
  {
   "cell_type": "markdown",
   "metadata": {
    "id": "dIaKXr29_Zct"
   },
   "source": [
    "### Стиль заголовков\n",
    "**Выведите на экран названия столбцов:**"
   ]
  },
  {
   "cell_type": "code",
   "execution_count": 5,
   "metadata": {
    "id": "oKOTdF_Q_Zct"
   },
   "outputs": [
    {
     "data": {
      "text/plain": [
       "Index(['  userID', 'Track', 'artist', 'genre', '  City  ', 'time', 'Day'], dtype='object')"
      ]
     },
     "metadata": {},
     "output_type": "display_data"
    }
   ],
   "source": [
    "display(df.columns) # перечень названий столбцов таблицы df"
   ]
  },
  {
   "cell_type": "markdown",
   "metadata": {
    "id": "zj5534cv_Zct"
   },
   "source": [
    "**Приведите названия в соответствие с хорошим стилем:**\n",
    "* несколько слов в названии запишите в «змеином_регистре»,\n",
    "* все символы сделайте строчными,\n",
    "* устраните пробелы.\n",
    "\n",
    "Для этого переименуйте колонки так:\n",
    "* `'  userID'` → `'user_id'`;\n",
    "* `'Track'` → `'track'`;\n",
    "* `'  City  '` → `'city'`;\n",
    "* `'Day'` → `'day'`."
   ]
  },
  {
   "cell_type": "code",
   "execution_count": 6,
   "metadata": {
    "id": "ISlFqs5y_Zct"
   },
   "outputs": [],
   "source": [
    "df = df.rename(columns={'  userID':'user_id','Track':'track','  City  ':'city','Day':'day'})# переименование столбцов"
   ]
  },
  {
   "cell_type": "markdown",
   "metadata": {
    "id": "1dqbh00J_Zct"
   },
   "source": [
    "**Проверьте результат. Для этого ещё раз выведите на экран названия столбцов:**"
   ]
  },
  {
   "cell_type": "code",
   "execution_count": 7,
   "metadata": {
    "id": "d4NOAmTW_Zct"
   },
   "outputs": [
    {
     "data": {
      "text/plain": [
       "Index(['user_id', 'track', 'artist', 'genre', 'city', 'time', 'day'], dtype='object')"
      ]
     },
     "metadata": {},
     "output_type": "display_data"
    }
   ],
   "source": [
    "display(df.columns) # проверка результатов - перечень названий столбцов"
   ]
  },
  {
   "cell_type": "markdown",
   "metadata": {
    "id": "5ISfbcfY_Zct"
   },
   "source": [
    "### Пропуски значений\n",
    "Сначала посчитайте, сколько в таблице пропущенных значений. Для этого достаточно двух методов `pandas`:"
   ]
  },
  {
   "cell_type": "code",
   "execution_count": 8,
   "metadata": {
    "id": "RskX29qr_Zct"
   },
   "outputs": [
    {
     "data": {
      "text/plain": [
       "user_id       0\n",
       "track      1231\n",
       "artist     7203\n",
       "genre      1198\n",
       "city          0\n",
       "time          0\n",
       "day           0\n",
       "dtype: int64"
      ]
     },
     "execution_count": 8,
     "metadata": {},
     "output_type": "execute_result"
    }
   ],
   "source": [
    "df.isna().sum() # подсчёт пропусков"
   ]
  },
  {
   "cell_type": "markdown",
   "metadata": {
    "id": "qubhgnlO_Zct"
   },
   "source": [
    "Не все пропущенные значения влияют на исследование. Так в `track` и `artist` пропуски не важны для вашей работы. Достаточно заменить их явными обозначениями.\n",
    "\n",
    "Но пропуски в `genre` могут помешать сравнению музыкальных вкусов в Москве и Санкт-Петербурге. На практике было бы правильно установить причину пропусков и восстановить данные. Такой возможности нет в учебном проекте. Придётся:\n",
    "* заполнить и эти пропуски явными обозначениями,\n",
    "* оценить, насколько они повредят расчётам. "
   ]
  },
  {
   "cell_type": "markdown",
   "metadata": {
    "id": "fSv2laPA_Zct"
   },
   "source": [
    "**Замените пропущенные значения в столбцах `track`, `artist` и `genre` на строку `'unknown'`. Для этого создайте список `columns_to_replace`, переберите его элементы циклом `for` и для каждого столбца выполните замену пропущенных значений:**"
   ]
  },
  {
   "cell_type": "code",
   "execution_count": 9,
   "metadata": {
    "id": "KplB5qWs_Zct"
   },
   "outputs": [],
   "source": [
    "columns_to_replace = ['track','artist','genre']\n",
    "for columns in columns_to_replace:\n",
    "    df[columns] = df[columns].fillna('unknown')# перебор названий столбцов в цикле и замена пропущенных значений на 'unknown'"
   ]
  },
  {
   "cell_type": "markdown",
   "metadata": {
    "id": "Ilsm-MZo_Zct"
   },
   "source": [
    "**Убедитесь, что в таблице не осталось пропусков. Для этого ещё раз посчитайте пропущенные значения.**"
   ]
  },
  {
   "cell_type": "code",
   "execution_count": 10,
   "metadata": {
    "id": "Tq4nYRX4_Zct"
   },
   "outputs": [
    {
     "data": {
      "text/plain": [
       "user_id    0\n",
       "track      0\n",
       "artist     0\n",
       "genre      0\n",
       "city       0\n",
       "time       0\n",
       "day        0\n",
       "dtype: int64"
      ]
     },
     "execution_count": 10,
     "metadata": {},
     "output_type": "execute_result"
    }
   ],
   "source": [
    "df.isna().sum()# подсчёт пропусков"
   ]
  },
  {
   "cell_type": "markdown",
   "metadata": {
    "id": "BWKRtBJ3_Zct"
   },
   "source": [
    "### Дубликаты\n",
    "**Посчитайте явные дубликаты в таблице одной командой:**"
   ]
  },
  {
   "cell_type": "code",
   "execution_count": 40,
   "metadata": {
    "id": "36eES_S0_Zct"
   },
   "outputs": [
    {
     "data": {
      "text/plain": [
       "0"
      ]
     },
     "execution_count": 40,
     "metadata": {},
     "output_type": "execute_result"
    }
   ],
   "source": [
    "df.duplicated().sum() # подсчёт явных дубликатов"
   ]
  },
  {
   "cell_type": "markdown",
   "metadata": {
    "id": "Ot25h6XR_Zct"
   },
   "source": [
    "**Вызовите специальный метод `pandas`, чтобы удалить явные дубликаты:**"
   ]
  },
  {
   "cell_type": "code",
   "execution_count": 41,
   "metadata": {
    "id": "exFHq6tt_Zct"
   },
   "outputs": [],
   "source": [
    "df = df.drop_duplicates().reset_index(drop = True) # удаление явных дубликатов (с удалением старых индексов и формированием новых)"
   ]
  },
  {
   "cell_type": "markdown",
   "metadata": {
    "id": "Im2YwBEG_Zct"
   },
   "source": [
    "Ещё раз посчитайте явные дубликаты в таблице — убедитесь, что полностью от них избавились:"
   ]
  },
  {
   "cell_type": "code",
   "execution_count": 42,
   "metadata": {
    "id": "-8PuNWQ0_Zct"
   },
   "outputs": [
    {
     "data": {
      "text/plain": [
       "0"
      ]
     },
     "execution_count": 42,
     "metadata": {},
     "output_type": "execute_result"
    }
   ],
   "source": [
    "df.duplicated().sum() # проверка на отсутствие дубликатов"
   ]
  },
  {
   "cell_type": "markdown",
   "metadata": {
    "id": "QlFBsxAr_Zct"
   },
   "source": [
    "**Теперь избавьтесь от неявных дубликатов в колонке `genre`. Например, название одного и того же жанра может быть записано немного по-разному. Такие ошибки тоже повлияют на результат исследования.**"
   ]
  },
  {
   "cell_type": "markdown",
   "metadata": {
    "id": "eSjWwsOh_Zct"
   },
   "source": [
    "Выведите на экран список уникальных названий жанров, отсортированный в алфавитном порядке. Для этого:\n",
    "* извлеките нужный столбец датафрейма, \n",
    "* примените к нему метод сортировки,\n",
    "* для отсортированного столбца вызовите метод, который вернёт уникальные значения из столбца."
   ]
  },
  {
   "cell_type": "code",
   "execution_count": 43,
   "metadata": {
    "id": "JIUcqzZN_Zct"
   },
   "outputs": [],
   "source": [
    " column_genre = df['genre'].sort_values().unique()# Просмотр уникальных названий жанров"
   ]
  },
  {
   "cell_type": "markdown",
   "metadata": {
    "id": "qej-Qmuo_Zct"
   },
   "source": [
    "Просмотрите список и найдите неявные дубликаты названия `hiphop`. Это могут быть названия с ошибками или альтернативные названия того же жанра.\n",
    "\n",
    "Вы увидите следующие неявные дубликаты:\n",
    "* *hip*,\n",
    "* *hop*,\n",
    "* *hip-hop*.\n",
    "\n",
    "Чтобы очистить от них таблицу, напишите функцию `replace_wrong_genres()` с двумя параметрами: \n",
    "* `wrong_genres` — список дубликатов,\n",
    "* `correct_genre` — строка с правильным значением.\n",
    "\n",
    "Функция должна исправить колонку `genre` в таблице `df`: заменить каждое значение из списка `wrong_genres` на значение из `correct_genre`."
   ]
  },
  {
   "cell_type": "code",
   "execution_count": 15,
   "metadata": {
    "id": "ErNDkmns_Zct"
   },
   "outputs": [],
   "source": [
    "def replace_wrong_genres(wrong_genres,correct_genre):\n",
    "    for replace_wrong in wrong_genres:\n",
    "        df['genre'] = df['genre'].replace(wrong_genres,correct_genre) # Функция для замены неявных дубликатов"
   ]
  },
  {
   "cell_type": "markdown",
   "metadata": {
    "id": "aDoBJxbA_Zct"
   },
   "source": [
    "Вызовите `replace_wrong_genres()` и передайте ей такие аргументы, чтобы она устранила неявные дубликаты: вместо `hip`, `hop` и `hip-hop` в таблице должно быть значение `hiphop`:"
   ]
  },
  {
   "cell_type": "code",
   "execution_count": 16,
   "metadata": {
    "id": "YN5i2hpmSo09"
   },
   "outputs": [],
   "source": [
    "duplicats = ['hip', 'hop', 'hip-hop']\n",
    "name = 'hiphop'\n",
    "replace_wrong_genres(duplicats,name)# Устранение неявных дубликатов\n",
    "\n"
   ]
  },
  {
   "cell_type": "markdown",
   "metadata": {
    "id": "zQKF16_RG15m"
   },
   "source": [
    "Проверьте, что заменили неправильные названия:\n",
    "\n",
    "*   hip\n",
    "*   hop\n",
    "*   hip-hop\n",
    "\n",
    "Выведите отсортированный список уникальных значений столбца `genre`:"
   ]
  },
  {
   "cell_type": "code",
   "execution_count": 17,
   "metadata": {
    "id": "wvixALnFG15m"
   },
   "outputs": [
    {
     "data": {
      "text/plain": [
       "array(['rock', 'pop', 'folk', 'dance', 'rusrap', 'ruspop', 'world',\n",
       "       'electronic', 'unknown', 'alternative', 'children', 'rnb',\n",
       "       'hiphop', 'jazz', 'postrock', 'latin', 'classical', 'metal',\n",
       "       'reggae', 'tatar', 'blues', 'instrumental', 'rusrock', 'dnb',\n",
       "       'türk', 'post', 'country', 'psychedelic', 'conjazz', 'indie',\n",
       "       'posthardcore', 'local', 'avantgarde', 'punk', 'videogame',\n",
       "       'techno', 'house', 'christmas', 'melodic', 'caucasian',\n",
       "       'reggaeton', 'soundtrack', 'singer', 'ska', 'shanson', 'ambient',\n",
       "       'film', 'western', 'rap', 'beats', \"hard'n'heavy\", 'progmetal',\n",
       "       'minimal', 'contemporary', 'new', 'soul', 'holiday', 'german',\n",
       "       'tropical', 'fairytail', 'spiritual', 'urban', 'gospel', 'nujazz',\n",
       "       'folkmetal', 'trance', 'miscellaneous', 'anime', 'hardcore',\n",
       "       'progressive', 'chanson', 'numetal', 'vocal', 'estrada', 'russian',\n",
       "       'classicmetal', 'dubstep', 'club', 'deep', 'southern', 'black',\n",
       "       'folkrock', 'fitness', 'french', 'disco', 'religious', 'drum',\n",
       "       'extrememetal', 'türkçe', 'experimental', 'easy', 'metalcore',\n",
       "       'modern', 'argentinetango', 'old', 'breaks', 'eurofolk',\n",
       "       'stonerrock', 'industrial', 'funk', 'jpop', 'middle', 'variété',\n",
       "       'other', 'adult', 'christian', 'gothic', 'international', 'muslim',\n",
       "       'relax', 'schlager', 'caribbean', 'ukrrock', 'nu', 'breakbeat',\n",
       "       'comedy', 'chill', 'newage', 'specialty', 'uzbek', 'k-pop',\n",
       "       'balkan', 'chinese', 'meditative', 'dub', 'power', 'death',\n",
       "       'grime', 'arabesk', 'romance', 'flamenco', 'leftfield', 'european',\n",
       "       'tech', 'newwave', 'dancehall', 'mpb', 'piano', 'top', 'bigroom',\n",
       "       'opera', 'celtic', 'tradjazz', 'acoustic', 'epicmetal',\n",
       "       'historisch', 'downbeat', 'downtempo', 'africa', 'audiobook',\n",
       "       'jewish', 'sängerportrait', 'deutschrock', 'eastern', 'action',\n",
       "       'future', 'electropop', 'folklore', 'bollywood', 'marschmusik',\n",
       "       'rnr', 'karaoke', 'indian', 'rancheras', 'электроника',\n",
       "       'afrikaans', 'tango', 'rhythm', 'sound', 'deutschspr', 'trip',\n",
       "       'lovers', 'choral', 'dancepop', 'podcasts', 'retro', 'smooth',\n",
       "       'mexican', 'brazilian', 'ïîï', 'mood', 'surf', 'author', 'gangsta',\n",
       "       'triphop', 'inspirational', 'idm', 'ethnic', 'bluegrass',\n",
       "       'broadway', 'animated', 'americana', 'karadeniz', 'rockabilly',\n",
       "       'colombian', 'self', 'synthrock', 'sertanejo', 'japanese',\n",
       "       'canzone', 'swing', 'lounge', 'sport', 'korean', 'ragga',\n",
       "       'traditional', 'gitarre', 'frankreich', 'alternativepunk', 'emo',\n",
       "       'laiko', 'cantopop', 'glitch', 'documentary', 'rockalternative',\n",
       "       'thrash', 'hymn', 'oceania', 'rockother', 'popeurodance', 'dark',\n",
       "       'vi', 'grunge', 'hardstyle', 'samba', 'garage', 'soft', 'art',\n",
       "       'folktronica', 'entehno', 'mediterranean', 'chamber', 'cuban',\n",
       "       'taraftar', 'rockindie', 'gypsy', 'hardtechno', 'shoegazing',\n",
       "       'skarock', 'bossa', 'salsa', 'latino', 'worldbeat', 'malaysian',\n",
       "       'baile', 'ghazal', 'loungeelectronic', 'arabic', 'popelectronic',\n",
       "       'acid', 'kayokyoku', 'neoklassik', 'tribal', 'tanzorchester',\n",
       "       'native', 'independent', 'cantautori', 'handsup', 'poprussian',\n",
       "       'punjabi', 'synthpop', 'rave', 'französisch', 'quebecois',\n",
       "       'speech', 'soulful', 'teen', 'jam', 'ram', 'horror', 'scenic',\n",
       "       'orchestral', 'neue', 'roots', 'slow', 'jungle', 'indipop', 'axé',\n",
       "       'fado', 'showtunes', 'arena', 'irish', 'mandopop', 'forró',\n",
       "       'popdance', 'dirty', 'regional'], dtype=object)"
      ]
     },
     "execution_count": 17,
     "metadata": {},
     "output_type": "execute_result"
    }
   ],
   "source": [
    "df['genre'].unique() # Проверка на неявные дубликаты"
   ]
  },
  {
   "cell_type": "markdown",
   "metadata": {
    "id": "jz6a9-7HQUDd"
   },
   "source": [
    "**Выводы**\n",
    "\n",
    "Предобработка обнаружила три проблемы в данных:\n",
    "\n",
    "- нарушения в стиле заголовков,\n",
    "- пропущенные значения,\n",
    "- дубликаты — явные и неявные.\n",
    "\n",
    "Вы исправили заголовки, чтобы упростить работу с таблицей. Без дубликатов исследование станет более точным.\n",
    "\n",
    "Пропущенные значения вы заменили на `'unknown'`. Ещё предстоит увидеть, не повредят ли исследованию пропуски в колонке `genre`.\n",
    "\n",
    "Теперь можно перейти к проверке гипотез. "
   ]
  },
  {
   "cell_type": "markdown",
   "metadata": {
    "id": "WttZHXH0SqKk"
   },
   "source": [
    "## Проверка гипотез"
   ]
  },
  {
   "cell_type": "markdown",
   "metadata": {
    "id": "Im936VVi_Zcu"
   },
   "source": [
    "### Сравнение поведения пользователей двух столиц"
   ]
  },
  {
   "cell_type": "markdown",
   "metadata": {
    "id": "nwt_MuaL_Zcu"
   },
   "source": [
    "Первая гипотеза утверждает, что пользователи по-разному слушают музыку в Москве и Санкт-Петербурге. Проверьте это предположение по данным о трёх днях недели — понедельнике, среде и пятнице. Для этого:\n",
    "\n",
    "* Разделите пользователей Москвы и Санкт-Петербурга\n",
    "* Сравните, сколько треков послушала каждая группа пользователей в понедельник, среду и пятницу.\n"
   ]
  },
  {
   "cell_type": "markdown",
   "metadata": {
    "id": "8Dw_YMmT_Zcu"
   },
   "source": [
    "**Для тренировки сначала выполните каждый из расчётов по отдельности.**\n",
    "\n",
    "**Оцените активность пользователей в каждом городе. Сгруппируйте данные по городу и посчитайте прослушивания в каждой группе.**\n",
    "\n"
   ]
  },
  {
   "cell_type": "code",
   "execution_count": 18,
   "metadata": {
    "id": "0_Qs96oh_Zcu"
   },
   "outputs": [
    {
     "data": {
      "text/html": [
       "<div>\n",
       "<style scoped>\n",
       "    .dataframe tbody tr th:only-of-type {\n",
       "        vertical-align: middle;\n",
       "    }\n",
       "\n",
       "    .dataframe tbody tr th {\n",
       "        vertical-align: top;\n",
       "    }\n",
       "\n",
       "    .dataframe thead th {\n",
       "        text-align: right;\n",
       "    }\n",
       "</style>\n",
       "<table border=\"1\" class=\"dataframe\">\n",
       "  <thead>\n",
       "    <tr style=\"text-align: right;\">\n",
       "      <th></th>\n",
       "      <th>user_id</th>\n",
       "      <th>track</th>\n",
       "      <th>artist</th>\n",
       "      <th>genre</th>\n",
       "      <th>time</th>\n",
       "      <th>day</th>\n",
       "    </tr>\n",
       "    <tr>\n",
       "      <th>city</th>\n",
       "      <th></th>\n",
       "      <th></th>\n",
       "      <th></th>\n",
       "      <th></th>\n",
       "      <th></th>\n",
       "      <th></th>\n",
       "    </tr>\n",
       "  </thead>\n",
       "  <tbody>\n",
       "    <tr>\n",
       "      <th>Moscow</th>\n",
       "      <td>42741</td>\n",
       "      <td>42741</td>\n",
       "      <td>42741</td>\n",
       "      <td>42741</td>\n",
       "      <td>42741</td>\n",
       "      <td>42741</td>\n",
       "    </tr>\n",
       "    <tr>\n",
       "      <th>Saint-Petersburg</th>\n",
       "      <td>18512</td>\n",
       "      <td>18512</td>\n",
       "      <td>18512</td>\n",
       "      <td>18512</td>\n",
       "      <td>18512</td>\n",
       "      <td>18512</td>\n",
       "    </tr>\n",
       "  </tbody>\n",
       "</table>\n",
       "</div>"
      ],
      "text/plain": [
       "                  user_id  track  artist  genre   time    day\n",
       "city                                                         \n",
       "Moscow              42741  42741   42741  42741  42741  42741\n",
       "Saint-Petersburg    18512  18512   18512  18512  18512  18512"
      ]
     },
     "execution_count": 18,
     "metadata": {},
     "output_type": "execute_result"
    }
   ],
   "source": [
    "df.groupby('city').count()# Подсчёт прослушиваний в каждом городе"
   ]
  },
  {
   "cell_type": "markdown",
   "metadata": {
    "id": "dzli3w8o_Zcu"
   },
   "source": [
    "В Москве прослушиваний больше, чем в Петербурге. Из этого не следует, что московские пользователи чаще слушают музыку. Просто самих пользователей в Москве больше.\n",
    "\n",
    "**Теперь сгруппируйте данные по дню недели и подсчитайте прослушивания в понедельник, среду и пятницу. Учтите, что в данных есть информация только о прослушиваниях только за эти дни.**\n"
   ]
  },
  {
   "cell_type": "code",
   "execution_count": 44,
   "metadata": {
    "id": "uZMKjiJz_Zcu"
   },
   "outputs": [
    {
     "data": {
      "text/plain": [
       "day\n",
       "Friday       21840\n",
       "Monday       21354\n",
       "Wednesday    18059\n",
       "Name: user_id, dtype: int64"
      ]
     },
     "execution_count": 44,
     "metadata": {},
     "output_type": "execute_result"
    }
   ],
   "source": [
    "df.groupby('day')['user_id'].count()# Подсчёт прослушиваний в каждый из трёх дней"
   ]
  },
  {
   "cell_type": "markdown",
   "metadata": {
    "id": "cC2tNrlL_Zcu"
   },
   "source": [
    "В среднем пользователи из двух городов менее активны по средам. Но картина может измениться, если рассмотреть каждый город в отдельности."
   ]
  },
  {
   "cell_type": "markdown",
   "metadata": {
    "id": "POzs8bGa_Zcu"
   },
   "source": [
    "**Вы видели, как работает группировка по городу и по дням недели. Теперь напишите функцию, которая объединит два эти расчёта.**\n",
    "\n",
    "Создайте функцию `number_tracks()`, которая посчитает прослушивания для заданного дня и города. Ей понадобятся два параметра:\n",
    "* день недели,\n",
    "* название города.\n",
    "\n",
    "В функции сохраните в переменную строки исходной таблицы, у которых значение:\n",
    "  * в колонке `day` равно параметру `day`,\n",
    "  * в колонке `city` равно параметру `city`.\n",
    "\n",
    "Для этого примените последовательную фильтрацию с логической индексацией.\n",
    "\n",
    "Затем посчитайте значения в столбце `user_id` получившейся таблицы. Результат сохраните в новую переменную. Верните эту переменную из функции."
   ]
  },
  {
   "cell_type": "code",
   "execution_count": 20,
   "metadata": {
    "id": "Nz3GdQB1_Zcu"
   },
   "outputs": [],
   "source": [
    "# <создание функции number_tracks()>\n",
    "def number_tracks(day, city):# Объявляется функция с двумя параметрами: day, city.\n",
    "    track_list = df[(df['day']== day) & (df['city']== city)] \n",
    "# В переменной track_list сохраняются те строки таблицы df, для которых \n",
    "# значение в столбце 'day' равно параметру day и одновременно значениe\n",
    "# в столбце 'city' равно параметру city (используйте последовательную фильтрацию с помощью логической индексации).\n",
    "   \n",
    "    track_list_count = track_list['user_id'].count()\n",
    "# В переменной track_list_count сохраняется число значений столбца 'user_id',\n",
    "# рассчитанное методом count() для таблицы track_list.\n",
    "    \n",
    "    return track_list_count # Функция возвращает число - значение track_list_count.\n",
    "\n",
    "# Функция для подсчёта прослушиваний для конкретного города и дня.\n",
    "# С помощью последовательной фильтрации с логической индексацией она \n",
    "# сначала получит из исходной таблицы строки с нужным днём,\n",
    "# затем из результата отфильтрует строки с нужным городом,\n",
    "# методом count() посчитает количество значений в колонке user_id. \n",
    "# Это количество функция вернёт в качестве результата"
   ]
  },
  {
   "cell_type": "markdown",
   "metadata": {
    "id": "ytf7xFrFJQ2r"
   },
   "source": [
    "**Вызовите `number_tracks()` шесть раз, меняя значение параметров — так, чтобы получить данные для каждого города в каждый из трёх дней.**"
   ]
  },
  {
   "cell_type": "code",
   "execution_count": 45,
   "metadata": {
    "id": "rJcRATNQ_Zcu"
   },
   "outputs": [
    {
     "data": {
      "text/plain": [
       "15740"
      ]
     },
     "execution_count": 45,
     "metadata": {},
     "output_type": "execute_result"
    }
   ],
   "source": [
    "number_tracks('Monday', 'Moscow')# количество прослушиваний в Москве по понедельникам"
   ]
  },
  {
   "cell_type": "code",
   "execution_count": 46,
   "metadata": {
    "id": "hq_ncZ5T_Zcu"
   },
   "outputs": [
    {
     "data": {
      "text/plain": [
       "5614"
      ]
     },
     "execution_count": 46,
     "metadata": {},
     "output_type": "execute_result"
    }
   ],
   "source": [
    "number_tracks('Monday','Saint-Petersburg')# количество прослушиваний в Санкт-Петербурге по понедельникам"
   ]
  },
  {
   "cell_type": "code",
   "execution_count": 47,
   "metadata": {
    "id": "_NTy2VPU_Zcu"
   },
   "outputs": [
    {
     "data": {
      "text/plain": [
       "11056"
      ]
     },
     "execution_count": 47,
     "metadata": {},
     "output_type": "execute_result"
    }
   ],
   "source": [
    "number_tracks('Wednesday','Moscow')# количество прослушиваний в Москве по средам"
   ]
  },
  {
   "cell_type": "code",
   "execution_count": 48,
   "metadata": {
    "id": "j2y3TAwo_Zcu"
   },
   "outputs": [
    {
     "data": {
      "text/plain": [
       "7003"
      ]
     },
     "execution_count": 48,
     "metadata": {},
     "output_type": "execute_result"
    }
   ],
   "source": [
    "number_tracks('Wednesday','Saint-Petersburg')# количество прослушиваний в Санкт-Петербурге по средам"
   ]
  },
  {
   "cell_type": "code",
   "execution_count": 49,
   "metadata": {
    "id": "vYDw5u_K_Zcu"
   },
   "outputs": [
    {
     "data": {
      "text/plain": [
       "15945"
      ]
     },
     "execution_count": 49,
     "metadata": {},
     "output_type": "execute_result"
    }
   ],
   "source": [
    "number_tracks('Friday','Moscow')# количество прослушиваний в Москве по пятницам"
   ]
  },
  {
   "cell_type": "code",
   "execution_count": 50,
   "metadata": {
    "id": "8_yzFtW3_Zcu"
   },
   "outputs": [
    {
     "data": {
      "text/plain": [
       "5895"
      ]
     },
     "execution_count": 50,
     "metadata": {},
     "output_type": "execute_result"
    }
   ],
   "source": [
    "number_tracks('Friday','Saint-Petersburg')# количество прослушиваний в Санкт-Петербурге по пятницам"
   ]
  },
  {
   "cell_type": "markdown",
   "metadata": {
    "id": "7QXffbO-_Zcu"
   },
   "source": [
    "**Создайте c помощью конструктора `pd.DataFrame` таблицу, где:**\n",
    "* названия колонок — `['city', 'monday', 'wednesday', 'friday']`;\n",
    "* данные — результаты, которые вы получили с помощью `number_tracks`."
   ]
  },
  {
   "cell_type": "code",
   "execution_count": 27,
   "metadata": {
    "id": "APAcLpOr_Zcu"
   },
   "outputs": [
    {
     "data": {
      "text/html": [
       "<div>\n",
       "<style scoped>\n",
       "    .dataframe tbody tr th:only-of-type {\n",
       "        vertical-align: middle;\n",
       "    }\n",
       "\n",
       "    .dataframe tbody tr th {\n",
       "        vertical-align: top;\n",
       "    }\n",
       "\n",
       "    .dataframe thead th {\n",
       "        text-align: right;\n",
       "    }\n",
       "</style>\n",
       "<table border=\"1\" class=\"dataframe\">\n",
       "  <thead>\n",
       "    <tr style=\"text-align: right;\">\n",
       "      <th></th>\n",
       "      <th>city</th>\n",
       "      <th>monday</th>\n",
       "      <th>wednesday</th>\n",
       "      <th>friday</th>\n",
       "    </tr>\n",
       "  </thead>\n",
       "  <tbody>\n",
       "    <tr>\n",
       "      <th>0</th>\n",
       "      <td>Moscow</td>\n",
       "      <td>15740</td>\n",
       "      <td>11056</td>\n",
       "      <td>15945</td>\n",
       "    </tr>\n",
       "    <tr>\n",
       "      <th>1</th>\n",
       "      <td>Saint-Petersburg</td>\n",
       "      <td>5614</td>\n",
       "      <td>7003</td>\n",
       "      <td>5895</td>\n",
       "    </tr>\n",
       "  </tbody>\n",
       "</table>\n",
       "</div>"
      ],
      "text/plain": [
       "               city  monday  wednesday  friday\n",
       "0            Moscow   15740      11056   15945\n",
       "1  Saint-Petersburg    5614       7003    5895"
      ]
     },
     "execution_count": 27,
     "metadata": {},
     "output_type": "execute_result"
    }
   ],
   "source": [
    "data = [['Moscow',15740,11056,15945],\n",
    "        ['Saint-Petersburg', 5614, 7003, 5895]]\n",
    "columns = ['city', 'monday', 'wednesday', 'friday']\n",
    "pd.DataFrame(data=data, columns=columns)\n",
    "                                   # Таблица с результатами"
   ]
  },
  {
   "cell_type": "markdown",
   "metadata": {
    "id": "-EgPIHYu_Zcu"
   },
   "source": [
    "**Выводы**\n",
    "\n",
    "Данные показывают разницу поведения пользователей:\n",
    "\n",
    "- В Москве пик прослушиваний приходится на понедельник и пятницу, а в среду заметен спад.\n",
    "- В Петербурге, наоборот, больше слушают музыку по средам. Активность в понедельник и пятницу здесь почти в равной мере уступает среде.\n",
    "\n",
    "Значит, данные говорят в пользу первой гипотезы."
   ]
  },
  {
   "cell_type": "markdown",
   "metadata": {
    "id": "atZAxtq4_Zcu"
   },
   "source": [
    "### Музыка в начале и в конце недели"
   ]
  },
  {
   "cell_type": "markdown",
   "metadata": {
    "id": "eXrQqXFH_Zcu"
   },
   "source": [
    "Согласно второй гипотезе, утром в понедельник в Москве преобладают одни жанры, а в Петербурге — другие. Так же и вечером пятницы преобладают разные жанры — в зависимости от города."
   ]
  },
  {
   "cell_type": "markdown",
   "metadata": {
    "id": "S8UcW6Hw_Zcu"
   },
   "source": [
    "**Сохраните таблицы с данными в две переменные:**\n",
    "* по Москве — в `moscow_general`;\n",
    "* по Санкт-Петербургу — в `spb_general`."
   ]
  },
  {
   "cell_type": "code",
   "execution_count": 28,
   "metadata": {
    "id": "qeaFfM_P_Zcu"
   },
   "outputs": [
    {
     "data": {
      "text/html": [
       "<div>\n",
       "<style scoped>\n",
       "    .dataframe tbody tr th:only-of-type {\n",
       "        vertical-align: middle;\n",
       "    }\n",
       "\n",
       "    .dataframe tbody tr th {\n",
       "        vertical-align: top;\n",
       "    }\n",
       "\n",
       "    .dataframe thead th {\n",
       "        text-align: right;\n",
       "    }\n",
       "</style>\n",
       "<table border=\"1\" class=\"dataframe\">\n",
       "  <thead>\n",
       "    <tr style=\"text-align: right;\">\n",
       "      <th></th>\n",
       "      <th>user_id</th>\n",
       "      <th>track</th>\n",
       "      <th>artist</th>\n",
       "      <th>genre</th>\n",
       "      <th>city</th>\n",
       "      <th>time</th>\n",
       "      <th>day</th>\n",
       "    </tr>\n",
       "  </thead>\n",
       "  <tbody>\n",
       "    <tr>\n",
       "      <th>1</th>\n",
       "      <td>55204538</td>\n",
       "      <td>Delayed Because of Accident</td>\n",
       "      <td>Andreas Rönnberg</td>\n",
       "      <td>rock</td>\n",
       "      <td>Moscow</td>\n",
       "      <td>14:07:09</td>\n",
       "      <td>Friday</td>\n",
       "    </tr>\n",
       "    <tr>\n",
       "      <th>4</th>\n",
       "      <td>E2DC1FAE</td>\n",
       "      <td>Soul People</td>\n",
       "      <td>Space Echo</td>\n",
       "      <td>dance</td>\n",
       "      <td>Moscow</td>\n",
       "      <td>08:34:34</td>\n",
       "      <td>Monday</td>\n",
       "    </tr>\n",
       "    <tr>\n",
       "      <th>6</th>\n",
       "      <td>4CB90AA5</td>\n",
       "      <td>True</td>\n",
       "      <td>Roman Messer</td>\n",
       "      <td>dance</td>\n",
       "      <td>Moscow</td>\n",
       "      <td>13:00:07</td>\n",
       "      <td>Wednesday</td>\n",
       "    </tr>\n",
       "    <tr>\n",
       "      <th>7</th>\n",
       "      <td>F03E1C1F</td>\n",
       "      <td>Feeling This Way</td>\n",
       "      <td>Polina Griffith</td>\n",
       "      <td>dance</td>\n",
       "      <td>Moscow</td>\n",
       "      <td>20:47:49</td>\n",
       "      <td>Wednesday</td>\n",
       "    </tr>\n",
       "    <tr>\n",
       "      <th>8</th>\n",
       "      <td>8FA1D3BE</td>\n",
       "      <td>И вновь продолжается бой</td>\n",
       "      <td>unknown</td>\n",
       "      <td>ruspop</td>\n",
       "      <td>Moscow</td>\n",
       "      <td>09:17:40</td>\n",
       "      <td>Friday</td>\n",
       "    </tr>\n",
       "    <tr>\n",
       "      <th>...</th>\n",
       "      <td>...</td>\n",
       "      <td>...</td>\n",
       "      <td>...</td>\n",
       "      <td>...</td>\n",
       "      <td>...</td>\n",
       "      <td>...</td>\n",
       "      <td>...</td>\n",
       "    </tr>\n",
       "    <tr>\n",
       "      <th>61247</th>\n",
       "      <td>83A474E7</td>\n",
       "      <td>I Worship Only What You Bleed</td>\n",
       "      <td>The Black Dahlia Murder</td>\n",
       "      <td>extrememetal</td>\n",
       "      <td>Moscow</td>\n",
       "      <td>21:07:12</td>\n",
       "      <td>Monday</td>\n",
       "    </tr>\n",
       "    <tr>\n",
       "      <th>61248</th>\n",
       "      <td>729CBB09</td>\n",
       "      <td>My Name</td>\n",
       "      <td>McLean</td>\n",
       "      <td>rnb</td>\n",
       "      <td>Moscow</td>\n",
       "      <td>13:32:28</td>\n",
       "      <td>Wednesday</td>\n",
       "    </tr>\n",
       "    <tr>\n",
       "      <th>61250</th>\n",
       "      <td>C5E3A0D5</td>\n",
       "      <td>Jalopiina</td>\n",
       "      <td>unknown</td>\n",
       "      <td>industrial</td>\n",
       "      <td>Moscow</td>\n",
       "      <td>20:09:26</td>\n",
       "      <td>Friday</td>\n",
       "    </tr>\n",
       "    <tr>\n",
       "      <th>61251</th>\n",
       "      <td>321D0506</td>\n",
       "      <td>Freight Train</td>\n",
       "      <td>Chas McDevitt</td>\n",
       "      <td>rock</td>\n",
       "      <td>Moscow</td>\n",
       "      <td>21:43:59</td>\n",
       "      <td>Friday</td>\n",
       "    </tr>\n",
       "    <tr>\n",
       "      <th>61252</th>\n",
       "      <td>3A64EF84</td>\n",
       "      <td>Tell Me Sweet Little Lies</td>\n",
       "      <td>Monica Lopez</td>\n",
       "      <td>country</td>\n",
       "      <td>Moscow</td>\n",
       "      <td>21:59:46</td>\n",
       "      <td>Friday</td>\n",
       "    </tr>\n",
       "  </tbody>\n",
       "</table>\n",
       "<p>42741 rows × 7 columns</p>\n",
       "</div>"
      ],
      "text/plain": [
       "        user_id                          track                   artist  \\\n",
       "1      55204538    Delayed Because of Accident         Andreas Rönnberg   \n",
       "4      E2DC1FAE                    Soul People               Space Echo   \n",
       "6      4CB90AA5                           True             Roman Messer   \n",
       "7      F03E1C1F               Feeling This Way          Polina Griffith   \n",
       "8      8FA1D3BE       И вновь продолжается бой                  unknown   \n",
       "...         ...                            ...                      ...   \n",
       "61247  83A474E7  I Worship Only What You Bleed  The Black Dahlia Murder   \n",
       "61248  729CBB09                        My Name                   McLean   \n",
       "61250  C5E3A0D5                      Jalopiina                  unknown   \n",
       "61251  321D0506                  Freight Train            Chas McDevitt   \n",
       "61252  3A64EF84      Tell Me Sweet Little Lies             Monica Lopez   \n",
       "\n",
       "              genre    city      time        day  \n",
       "1              rock  Moscow  14:07:09     Friday  \n",
       "4             dance  Moscow  08:34:34     Monday  \n",
       "6             dance  Moscow  13:00:07  Wednesday  \n",
       "7             dance  Moscow  20:47:49  Wednesday  \n",
       "8            ruspop  Moscow  09:17:40     Friday  \n",
       "...             ...     ...       ...        ...  \n",
       "61247  extrememetal  Moscow  21:07:12     Monday  \n",
       "61248           rnb  Moscow  13:32:28  Wednesday  \n",
       "61250    industrial  Moscow  20:09:26     Friday  \n",
       "61251          rock  Moscow  21:43:59     Friday  \n",
       "61252       country  Moscow  21:59:46     Friday  \n",
       "\n",
       "[42741 rows x 7 columns]"
      ]
     },
     "metadata": {},
     "output_type": "display_data"
    }
   ],
   "source": [
    "moscow_general = df[df['city'] == 'Moscow']    # получение таблицы moscow_general из тех строк таблицы df, \n",
    "display(moscow_general)                      # для которых значение в столбце 'city' равно \n"
   ]
  },
  {
   "cell_type": "code",
   "execution_count": 29,
   "metadata": {
    "id": "ORaVRKto_Zcu"
   },
   "outputs": [
    {
     "data": {
      "text/html": [
       "<div>\n",
       "<style scoped>\n",
       "    .dataframe tbody tr th:only-of-type {\n",
       "        vertical-align: middle;\n",
       "    }\n",
       "\n",
       "    .dataframe tbody tr th {\n",
       "        vertical-align: top;\n",
       "    }\n",
       "\n",
       "    .dataframe thead th {\n",
       "        text-align: right;\n",
       "    }\n",
       "</style>\n",
       "<table border=\"1\" class=\"dataframe\">\n",
       "  <thead>\n",
       "    <tr style=\"text-align: right;\">\n",
       "      <th></th>\n",
       "      <th>user_id</th>\n",
       "      <th>track</th>\n",
       "      <th>artist</th>\n",
       "      <th>genre</th>\n",
       "      <th>city</th>\n",
       "      <th>time</th>\n",
       "      <th>day</th>\n",
       "    </tr>\n",
       "  </thead>\n",
       "  <tbody>\n",
       "    <tr>\n",
       "      <th>0</th>\n",
       "      <td>FFB692EC</td>\n",
       "      <td>Kamigata To Boots</td>\n",
       "      <td>The Mass Missile</td>\n",
       "      <td>rock</td>\n",
       "      <td>Saint-Petersburg</td>\n",
       "      <td>20:28:33</td>\n",
       "      <td>Wednesday</td>\n",
       "    </tr>\n",
       "    <tr>\n",
       "      <th>2</th>\n",
       "      <td>20EC38</td>\n",
       "      <td>Funiculì funiculà</td>\n",
       "      <td>Mario Lanza</td>\n",
       "      <td>pop</td>\n",
       "      <td>Saint-Petersburg</td>\n",
       "      <td>20:58:07</td>\n",
       "      <td>Wednesday</td>\n",
       "    </tr>\n",
       "    <tr>\n",
       "      <th>3</th>\n",
       "      <td>A3DD03C9</td>\n",
       "      <td>Dragons in the Sunset</td>\n",
       "      <td>Fire + Ice</td>\n",
       "      <td>folk</td>\n",
       "      <td>Saint-Petersburg</td>\n",
       "      <td>08:37:09</td>\n",
       "      <td>Monday</td>\n",
       "    </tr>\n",
       "    <tr>\n",
       "      <th>5</th>\n",
       "      <td>842029A1</td>\n",
       "      <td>Преданная</td>\n",
       "      <td>IMPERVTOR</td>\n",
       "      <td>rusrap</td>\n",
       "      <td>Saint-Petersburg</td>\n",
       "      <td>13:09:41</td>\n",
       "      <td>Friday</td>\n",
       "    </tr>\n",
       "    <tr>\n",
       "      <th>9</th>\n",
       "      <td>E772D5C0</td>\n",
       "      <td>Pessimist</td>\n",
       "      <td>unknown</td>\n",
       "      <td>dance</td>\n",
       "      <td>Saint-Petersburg</td>\n",
       "      <td>21:20:49</td>\n",
       "      <td>Wednesday</td>\n",
       "    </tr>\n",
       "    <tr>\n",
       "      <th>...</th>\n",
       "      <td>...</td>\n",
       "      <td>...</td>\n",
       "      <td>...</td>\n",
       "      <td>...</td>\n",
       "      <td>...</td>\n",
       "      <td>...</td>\n",
       "      <td>...</td>\n",
       "    </tr>\n",
       "    <tr>\n",
       "      <th>61239</th>\n",
       "      <td>D94F810B</td>\n",
       "      <td>Theme from the Walking Dead</td>\n",
       "      <td>Proyecto Halloween</td>\n",
       "      <td>film</td>\n",
       "      <td>Saint-Petersburg</td>\n",
       "      <td>21:14:40</td>\n",
       "      <td>Monday</td>\n",
       "    </tr>\n",
       "    <tr>\n",
       "      <th>61240</th>\n",
       "      <td>BC8EC5CF</td>\n",
       "      <td>Red Lips: Gta (Rover Rework)</td>\n",
       "      <td>Rover</td>\n",
       "      <td>electronic</td>\n",
       "      <td>Saint-Petersburg</td>\n",
       "      <td>21:06:50</td>\n",
       "      <td>Monday</td>\n",
       "    </tr>\n",
       "    <tr>\n",
       "      <th>61241</th>\n",
       "      <td>29E04611</td>\n",
       "      <td>Bre Petrunko</td>\n",
       "      <td>Perunika Trio</td>\n",
       "      <td>world</td>\n",
       "      <td>Saint-Petersburg</td>\n",
       "      <td>13:56:00</td>\n",
       "      <td>Monday</td>\n",
       "    </tr>\n",
       "    <tr>\n",
       "      <th>61242</th>\n",
       "      <td>1B91C621</td>\n",
       "      <td>(Hello) Cloud Mountain</td>\n",
       "      <td>sleepmakeswaves</td>\n",
       "      <td>postrock</td>\n",
       "      <td>Saint-Petersburg</td>\n",
       "      <td>09:22:13</td>\n",
       "      <td>Monday</td>\n",
       "    </tr>\n",
       "    <tr>\n",
       "      <th>61249</th>\n",
       "      <td>D08D4A55</td>\n",
       "      <td>Maybe One Day (feat. Black Spade)</td>\n",
       "      <td>Blu &amp; Exile</td>\n",
       "      <td>hiphop</td>\n",
       "      <td>Saint-Petersburg</td>\n",
       "      <td>10:00:00</td>\n",
       "      <td>Monday</td>\n",
       "    </tr>\n",
       "  </tbody>\n",
       "</table>\n",
       "<p>18512 rows × 7 columns</p>\n",
       "</div>"
      ],
      "text/plain": [
       "        user_id                              track              artist  \\\n",
       "0      FFB692EC                  Kamigata To Boots    The Mass Missile   \n",
       "2        20EC38                  Funiculì funiculà         Mario Lanza   \n",
       "3      A3DD03C9              Dragons in the Sunset          Fire + Ice   \n",
       "5      842029A1                          Преданная           IMPERVTOR   \n",
       "9      E772D5C0                          Pessimist             unknown   \n",
       "...         ...                                ...                 ...   \n",
       "61239  D94F810B        Theme from the Walking Dead  Proyecto Halloween   \n",
       "61240  BC8EC5CF       Red Lips: Gta (Rover Rework)               Rover   \n",
       "61241  29E04611                       Bre Petrunko       Perunika Trio   \n",
       "61242  1B91C621             (Hello) Cloud Mountain     sleepmakeswaves   \n",
       "61249  D08D4A55  Maybe One Day (feat. Black Spade)         Blu & Exile   \n",
       "\n",
       "            genre              city      time        day  \n",
       "0            rock  Saint-Petersburg  20:28:33  Wednesday  \n",
       "2             pop  Saint-Petersburg  20:58:07  Wednesday  \n",
       "3            folk  Saint-Petersburg  08:37:09     Monday  \n",
       "5          rusrap  Saint-Petersburg  13:09:41     Friday  \n",
       "9           dance  Saint-Petersburg  21:20:49  Wednesday  \n",
       "...           ...               ...       ...        ...  \n",
       "61239        film  Saint-Petersburg  21:14:40     Monday  \n",
       "61240  electronic  Saint-Petersburg  21:06:50     Monday  \n",
       "61241       world  Saint-Petersburg  13:56:00     Monday  \n",
       "61242    postrock  Saint-Petersburg  09:22:13     Monday  \n",
       "61249      hiphop  Saint-Petersburg  10:00:00     Monday  \n",
       "\n",
       "[18512 rows x 7 columns]"
      ]
     },
     "metadata": {},
     "output_type": "display_data"
    }
   ],
   "source": [
    "spb_general = df[df['city'] == 'Saint-Petersburg']# получение таблицы spb_general из тех строк таблицы df,\n",
    "display(spb_general)                              # для которых значение в столбце 'city' равно 'Saint-Petersburg'\n"
   ]
  },
  {
   "cell_type": "markdown",
   "metadata": {
    "id": "MEJV-CX2_Zcu"
   },
   "source": [
    "**Создайте функцию `genre_weekday()` с четырьмя параметрами:**\n",
    "* таблица (датафрейм) с данными,\n",
    "* день недели,\n",
    "* начальная временная метка в формате 'hh:mm', \n",
    "* последняя временная метка в формате 'hh:mm'.\n",
    "\n",
    "Функция должна вернуть информацию о топ-10 жанров тех треков, которые прослушивали в указанный день, в промежутке между двумя отметками времени."
   ]
  },
  {
   "cell_type": "code",
   "execution_count": 30,
   "metadata": {
    "id": "laJT9BYl_Zcu"
   },
   "outputs": [
    {
     "data": {
      "text/plain": [
       "genre\n",
       "pop            781\n",
       "dance          549\n",
       "electronic     480\n",
       "rock           474\n",
       "hiphop         286\n",
       "ruspop         186\n",
       "world          181\n",
       "rusrap         175\n",
       "alternative    164\n",
       "unknown        161\n",
       "Name: genre, dtype: int64"
      ]
     },
     "execution_count": 30,
     "metadata": {},
     "output_type": "execute_result"
    }
   ],
   "source": [
    "def genre_weekday(table, day, time1, time2):\n",
    "    genre_df = table[table['day'] == day]\n",
    "    genre_df = genre_df[genre_df['time'] > time1] \n",
    "    genre_df = genre_df[genre_df['time'] < time2]\n",
    "    genre_df_count = genre_df.groupby('genre')['genre'].count()\n",
    "    genre_df_sorted = genre_df_count.sort_values(ascending = False)\n",
    "    return genre_df_sorted.head(10)\n",
    "\n",
    "genre_weekday(moscow_general, 'Monday', '07:00', '11:00')\n",
    "\n",
    "\n",
    "#Объявление функции genre_weekday() с параметрами table, day, time1, time2,\n",
    "# которая возвращает информацию о самых популярных жанрах в указанный день в\n",
    "# заданное время:\n",
    "# 1) в переменную genre_df сохраняются те строки переданного датафрейма , для\n",
    "#    которых одновременно:\n",
    "#    - значение в столбце day равно значению аргумента day\n",
    "#    - значение в столбце time больше значения аргумента time1\n",
    "#    - значение в столбце time меньше значения аргумента time2\n",
    "#    Используйте последовательную фильтрацию с помощью логической индексации.\n",
    "    \n",
    "# 2) сгруппировать датафрейм genre_df по столбцу genre, взять один из его\n",
    "#    столбцов и посчитать методом count() количество записей для каждого из\n",
    "#    присутствующих жанров, получившийся Series записать в переменную\n",
    "#    genre_df_count\n",
    "    \n",
    "# 3) отсортировать genre_df_count по убыванию встречаемости и сохранить в переменную genre_df_sorted\n",
    "                    \n",
    "# 4) вернуть Series из 10 первых значений genre_df_sorted, это будут топ-10\n",
    "#    популярных жанров (в указанный день, в заданное время)\n",
    "   \n",
    "   \n",
    "\n",
    "\n",
    "\n",
    "    "
   ]
  },
  {
   "cell_type": "markdown",
   "metadata": {
    "id": "la2s2_PF_Zcu"
   },
   "source": [
    "**Cравните результаты функции `genre_weekday()` для Москвы и Санкт-Петербурга в понедельник утром (с 7:00 до 11:00) и в пятницу вечером (с 17:00 до 23:00):**"
   ]
  },
  {
   "cell_type": "code",
   "execution_count": 31,
   "metadata": {
    "id": "yz7itPUQ_Zcu"
   },
   "outputs": [
    {
     "data": {
      "text/plain": [
       "genre\n",
       "pop            781\n",
       "dance          549\n",
       "electronic     480\n",
       "rock           474\n",
       "hiphop         286\n",
       "ruspop         186\n",
       "world          181\n",
       "rusrap         175\n",
       "alternative    164\n",
       "unknown        161\n",
       "Name: genre, dtype: int64"
      ]
     },
     "execution_count": 31,
     "metadata": {},
     "output_type": "execute_result"
    }
   ],
   "source": [
    "genre_weekday(moscow_general, 'Monday', '07:00', '11:00')\n",
    "\n",
    "# вызов функции для утра понедельника в Москве (вместо df — таблица moscow_genera\n",
    "# объекты, хранящие время, являются строками и сравниваются как строки\n",
    "# пример вызова: genre_weekday(moscow_general, 'Monday', '07:00', '11:00')"
   ]
  },
  {
   "cell_type": "code",
   "execution_count": 32,
   "metadata": {
    "id": "kwUcHPdy_Zcu"
   },
   "outputs": [
    {
     "data": {
      "text/plain": [
       "genre\n",
       "pop            218\n",
       "dance          182\n",
       "rock           162\n",
       "electronic     147\n",
       "hiphop          80\n",
       "ruspop          64\n",
       "alternative     58\n",
       "rusrap          55\n",
       "jazz            44\n",
       "classical       40\n",
       "Name: genre, dtype: int64"
      ]
     },
     "execution_count": 32,
     "metadata": {},
     "output_type": "execute_result"
    }
   ],
   "source": [
    "genre_weekday(spb_general,'Monday', '07:00', '11:00')# вызов функции для утра понедельника в Петербурге (вместо df — таблица spb_general)"
   ]
  },
  {
   "cell_type": "code",
   "execution_count": 33,
   "metadata": {
    "id": "EzXVRE1o_Zcu"
   },
   "outputs": [
    {
     "data": {
      "text/plain": [
       "genre\n",
       "pop            713\n",
       "rock           517\n",
       "dance          495\n",
       "electronic     482\n",
       "hiphop         273\n",
       "world          208\n",
       "ruspop         170\n",
       "alternative    163\n",
       "classical      163\n",
       "rusrap         142\n",
       "Name: genre, dtype: int64"
      ]
     },
     "execution_count": 33,
     "metadata": {},
     "output_type": "execute_result"
    }
   ],
   "source": [
    "genre_weekday(moscow_general,'Friday','17:00','23:00')# вызов функции для вечера пятницы в Москве"
   ]
  },
  {
   "cell_type": "code",
   "execution_count": 34,
   "metadata": {
    "id": "JZaEKu5v_Zcu"
   },
   "outputs": [
    {
     "data": {
      "text/plain": [
       "genre\n",
       "pop            256\n",
       "electronic     216\n",
       "rock           216\n",
       "dance          210\n",
       "hiphop          97\n",
       "alternative     63\n",
       "jazz            61\n",
       "classical       60\n",
       "rusrap          59\n",
       "world           54\n",
       "Name: genre, dtype: int64"
      ]
     },
     "execution_count": 34,
     "metadata": {},
     "output_type": "execute_result"
    }
   ],
   "source": [
    "genre_weekday(spb_general,'Friday','17:00','23:00')# вызов функции для вечера пятницы в Петербурге"
   ]
  },
  {
   "cell_type": "markdown",
   "metadata": {
    "id": "wrCe4MNX_Zcu"
   },
   "source": [
    "**Выводы**\n",
    "\n",
    "Если сравнить топ-10 жанров в понедельник утром, можно сделать такие выводы:\n",
    "\n",
    "1. В Москве и Петербурге слушают похожую музыку. Единственное отличие — в московский рейтинг вошёл жанр “world”, а в петербургский — джаз и классика.\n",
    "\n",
    "2. В Москве пропущенных значений оказалось так много, что значение `'unknown'` заняло десятое место среди самых популярных жанров. Значит, пропущенные значения занимают существенную долю в данных и угрожают достоверности исследования.\n",
    "\n",
    "Вечер пятницы не меняет эту картину. Некоторые жанры поднимаются немного выше, другие спускаются, но в целом топ-10 остаётся тем же самым.\n",
    "\n",
    "Таким образом, вторая гипотеза подтвердилась лишь частично:\n",
    "* Пользователи слушают похожую музыку в начале недели и в конце.\n",
    "* Разница между Москвой и Петербургом не слишком выражена. В Москве чаще слушают русскую популярную музыку, в Петербурге — джаз.\n",
    "\n",
    "Однако пропуски в данных ставят под сомнение этот результат. В Москве их так много, что рейтинг топ-10 мог бы выглядеть иначе, если бы не утерянные  данные о жанрах."
   ]
  },
  {
   "cell_type": "markdown",
   "metadata": {
    "id": "JolODAqr_Zcu"
   },
   "source": [
    "### Жанровые предпочтения в Москве и Петербурге\n",
    "\n",
    "Гипотеза: Петербург — столица рэпа, музыку этого жанра там слушают чаще, чем в Москве.  А Москва — город контрастов, в котором, тем не менее, преобладает поп-музыка."
   ]
  },
  {
   "cell_type": "markdown",
   "metadata": {
    "id": "DlegSvaT_Zcu"
   },
   "source": [
    "**Сгруппируйте таблицу `moscow_general` по жанру и посчитайте прослушивания треков каждого жанра методом `count()`. Затем отсортируйте результат в порядке убывания и сохраните его в таблице `moscow_genres`.**"
   ]
  },
  {
   "cell_type": "code",
   "execution_count": 35,
   "metadata": {
    "id": "r19lIPke_Zcu"
   },
   "outputs": [],
   "source": [
    "moscow_genres = moscow_general.groupby('genre')['genre'].count().sort_values(ascending=False)\n",
    "\n",
    "\n",
    "# одной строкой: группировка таблицы moscow_general по столбцу 'genre', \n",
    "# подсчёт числа значений 'genre' в этой группировке методом count(), \n",
    "# сортировка получившегося Series в порядке убывания и сохранение в moscow_genres"
   ]
  },
  {
   "cell_type": "markdown",
   "metadata": {
    "id": "6kMuomxTiIr8"
   },
   "source": [
    "**Выведите на экран первые десять строк `moscow_genres`:**"
   ]
  },
  {
   "cell_type": "code",
   "execution_count": 36,
   "metadata": {
    "id": "WhCSooF8_Zcv"
   },
   "outputs": [
    {
     "data": {
      "text/plain": [
       "genre\n",
       "pop            5892\n",
       "dance          4435\n",
       "rock           3965\n",
       "electronic     3786\n",
       "hiphop         2096\n",
       "classical      1616\n",
       "world          1432\n",
       "alternative    1379\n",
       "ruspop         1372\n",
       "rusrap         1161\n",
       "Name: genre, dtype: int64"
      ]
     },
     "metadata": {},
     "output_type": "display_data"
    }
   ],
   "source": [
    "display(moscow_genres.head(10)) # просмотр первых 10 строк moscow_genres"
   ]
  },
  {
   "cell_type": "markdown",
   "metadata": {
    "id": "cnPG2vnN_Zcv"
   },
   "source": [
    "**Теперь повторите то же и для Петербурга.**\n",
    "\n",
    "Сгруппируйте таблицу `spb_general` по жанру. Посчитайте прослушивания треков каждого жанра. Результат отсортируйте в порядке убывания и сохраните в таблице `spb_genres`:\n"
   ]
  },
  {
   "cell_type": "code",
   "execution_count": 37,
   "metadata": {
    "id": "gluLIpE7_Zcv"
   },
   "outputs": [],
   "source": [
    "spb_genres = spb_general.groupby('genre')['genre'].count().sort_values(ascending=False)\n",
    "\n",
    "# одной строкой: группировка таблицы spb_general по столбцу 'genre', \n",
    "# подсчёт числа значений 'genre' в этой группировке методом count(), \n",
    "# сортировка получившегося Series в порядке убывания и сохранение в spb_genres"
   ]
  },
  {
   "cell_type": "markdown",
   "metadata": {
    "id": "5Doha_ODgyQ8"
   },
   "source": [
    "Выведите на экран первые десять строк `spb_genres`:"
   ]
  },
  {
   "cell_type": "code",
   "execution_count": 38,
   "metadata": {
    "id": "uaGJHjVU_Zcv"
   },
   "outputs": [
    {
     "data": {
      "text/plain": [
       "genre\n",
       "pop            2431\n",
       "dance          1932\n",
       "rock           1879\n",
       "electronic     1736\n",
       "hiphop          960\n",
       "alternative     649\n",
       "classical       646\n",
       "rusrap          564\n",
       "ruspop          538\n",
       "world           515\n",
       "Name: genre, dtype: int64"
      ]
     },
     "metadata": {},
     "output_type": "display_data"
    }
   ],
   "source": [
    "display(spb_genres.head(10)) # просмотр первых 10 строк spb_genres"
   ]
  },
  {
   "cell_type": "markdown",
   "metadata": {
    "id": "RY51YJYu_Zcv"
   },
   "source": [
    "**Выводы**"
   ]
  },
  {
   "cell_type": "markdown",
   "metadata": {
    "id": "nVhnJEm__Zcv"
   },
   "source": [
    "Гипотеза частично подтвердилась:\n",
    "* Поп-музыка — самый популярный жанр в Москве, как и предполагала гипотеза. Более того, в топ-10 жанров встречается близкий жанр — русская популярная музыка.\n",
    "* Вопреки ожиданиям, рэп одинаково популярен в Москве и Петербурге. \n"
   ]
  },
  {
   "cell_type": "markdown",
   "metadata": {
    "id": "ykKQ0N65_Zcv"
   },
   "source": [
    "## Итоги исследования"
   ]
  },
  {
   "cell_type": "markdown",
   "metadata": {
    "id": "tjUwbHb3_Zcv"
   },
   "source": [
    "Вы проверили три гипотезы и установили:\n",
    "\n",
    "1. День недели по-разному влияет на активность пользователей в Москве и Петербурге. \n",
    "\n",
    "Первая гипотеза полностью подтвердилась.\n",
    "\n",
    "2. Музыкальные предпочтения не сильно меняются в течение недели — будь то Москва или Петербург. Небольшие различия заметны в начале недели, по понедельникам:\n",
    "* в Москве слушают музыку жанра “world”,\n",
    "* в Петербурге — джаз и классику.\n",
    "\n",
    "Таким образом, вторая гипотеза подтвердилась лишь отчасти. Этот результат мог оказаться иным, если бы не пропуски в данных.\n",
    "\n",
    "3. Во вкусах пользователей Москвы и Петербурга больше общего чем различий. Вопреки ожиданиям, предпочтения жанров в Петербурге напоминают московские.\n",
    "\n",
    "Третья гипотеза не подтвердилась. Если различия в предпочтениях и существуют, на основной массе пользователей они незаметны.\n",
    "\n"
   ]
  },
  {
   "cell_type": "code",
   "execution_count": null,
   "metadata": {},
   "outputs": [],
   "source": []
  }
 ],
 "metadata": {
  "ExecuteTimeLog": [
   {
    "duration": 553,
    "start_time": "2022-01-14T15:39:30.470Z"
   },
   {
    "duration": 371,
    "start_time": "2022-01-14T15:39:41.123Z"
   },
   {
    "duration": 2129,
    "start_time": "2022-01-14T15:40:06.042Z"
   },
   {
    "duration": 119,
    "start_time": "2022-01-14T15:44:44.462Z"
   },
   {
    "duration": 15,
    "start_time": "2022-01-14T15:46:47.350Z"
   },
   {
    "duration": 23,
    "start_time": "2022-01-14T15:54:36.870Z"
   },
   {
    "duration": 23,
    "start_time": "2022-01-14T16:00:30.448Z"
   },
   {
    "duration": 22,
    "start_time": "2022-01-14T16:02:21.091Z"
   },
   {
    "duration": 23,
    "start_time": "2022-01-14T16:03:34.374Z"
   },
   {
    "duration": 23,
    "start_time": "2022-01-14T16:06:54.028Z"
   },
   {
    "duration": 3,
    "start_time": "2022-01-14T16:35:01.373Z"
   },
   {
    "duration": 3,
    "start_time": "2022-01-14T16:35:36.293Z"
   },
   {
    "duration": 21,
    "start_time": "2022-01-14T16:38:46.978Z"
   },
   {
    "duration": 361,
    "start_time": "2022-01-14T17:05:23.934Z"
   },
   {
    "duration": 3,
    "start_time": "2022-01-14T17:06:25.431Z"
   },
   {
    "duration": 2,
    "start_time": "2022-01-14T17:06:34.790Z"
   },
   {
    "duration": 21,
    "start_time": "2022-01-14T17:08:29.624Z"
   },
   {
    "duration": 8180,
    "start_time": "2022-01-14T17:13:40.921Z"
   },
   {
    "duration": 3,
    "start_time": "2022-01-14T17:14:08.588Z"
   },
   {
    "duration": 3,
    "start_time": "2022-01-14T17:14:12.051Z"
   },
   {
    "duration": 3,
    "start_time": "2022-01-14T17:19:00.053Z"
   },
   {
    "duration": 20,
    "start_time": "2022-01-14T17:19:06.989Z"
   },
   {
    "duration": 373,
    "start_time": "2022-01-14T17:27:39.067Z"
   },
   {
    "duration": 333,
    "start_time": "2022-01-14T17:28:13.984Z"
   },
   {
    "duration": 8195,
    "start_time": "2022-01-14T17:45:05.415Z"
   },
   {
    "duration": -1004,
    "start_time": "2022-01-14T17:45:14.616Z"
   },
   {
    "duration": 321,
    "start_time": "2022-01-14T17:48:33.001Z"
   },
   {
    "duration": 3,
    "start_time": "2022-01-14T17:49:49.543Z"
   },
   {
    "duration": 102,
    "start_time": "2022-01-14T18:01:24.839Z"
   },
   {
    "duration": 17,
    "start_time": "2022-01-14T18:01:50.940Z"
   },
   {
    "duration": 4,
    "start_time": "2022-01-14T18:02:02.497Z"
   },
   {
    "duration": 16,
    "start_time": "2022-01-14T18:02:17.365Z"
   },
   {
    "duration": 20,
    "start_time": "2022-01-14T18:02:26.201Z"
   },
   {
    "duration": 54,
    "start_time": "2022-01-14T18:06:00.103Z"
   },
   {
    "duration": 58,
    "start_time": "2022-01-14T18:11:15.634Z"
   },
   {
    "duration": 56,
    "start_time": "2022-01-14T18:11:24.939Z"
   },
   {
    "duration": 43,
    "start_time": "2022-01-14T18:12:17.095Z"
   },
   {
    "duration": 6,
    "start_time": "2022-01-14T18:16:48.448Z"
   },
   {
    "duration": 3,
    "start_time": "2022-01-14T18:24:17.725Z"
   },
   {
    "duration": 344,
    "start_time": "2022-01-14T18:30:28.961Z"
   },
   {
    "duration": 324,
    "start_time": "2022-01-14T18:30:51.951Z"
   },
   {
    "duration": 358,
    "start_time": "2022-01-14T18:32:26.683Z"
   },
   {
    "duration": 319,
    "start_time": "2022-01-14T18:37:55.262Z"
   },
   {
    "duration": 463,
    "start_time": "2022-01-14T18:38:09.442Z"
   },
   {
    "duration": 316,
    "start_time": "2022-01-14T18:56:17.835Z"
   },
   {
    "duration": 406,
    "start_time": "2022-01-14T18:57:12.183Z"
   },
   {
    "duration": 320,
    "start_time": "2022-01-14T18:57:36.653Z"
   },
   {
    "duration": 312,
    "start_time": "2022-01-14T18:57:56.951Z"
   },
   {
    "duration": 325,
    "start_time": "2022-01-14T18:58:59.254Z"
   },
   {
    "duration": 329,
    "start_time": "2022-01-14T19:00:00.328Z"
   },
   {
    "duration": 17,
    "start_time": "2022-01-14T19:14:55.909Z"
   },
   {
    "duration": 16,
    "start_time": "2022-01-14T19:15:01.720Z"
   },
   {
    "duration": 72,
    "start_time": "2022-01-14T19:16:44.401Z"
   },
   {
    "duration": 6,
    "start_time": "2022-01-14T19:17:57.816Z"
   },
   {
    "duration": 4,
    "start_time": "2022-01-14T19:25:44.639Z"
   },
   {
    "duration": 27,
    "start_time": "2022-01-14T19:43:36.257Z"
   },
   {
    "duration": 28,
    "start_time": "2022-01-14T19:46:03.765Z"
   },
   {
    "duration": 121,
    "start_time": "2022-01-14T20:04:08.897Z"
   },
   {
    "duration": 111,
    "start_time": "2022-01-14T20:04:36.874Z"
   },
   {
    "duration": 106,
    "start_time": "2022-01-14T20:05:54.930Z"
   },
   {
    "duration": 108,
    "start_time": "2022-01-14T20:08:32.124Z"
   },
   {
    "duration": 3,
    "start_time": "2022-01-14T20:09:22.576Z"
   },
   {
    "duration": 2024,
    "start_time": "2022-01-14T20:19:34.561Z"
   },
   {
    "duration": 1668,
    "start_time": "2022-01-14T20:21:13.785Z"
   },
   {
    "duration": 1607,
    "start_time": "2022-01-14T20:21:49.558Z"
   },
   {
    "duration": 1655,
    "start_time": "2022-01-14T20:22:58.237Z"
   },
   {
    "duration": 1587,
    "start_time": "2022-01-14T20:24:33.488Z"
   },
   {
    "duration": 4,
    "start_time": "2022-01-14T20:24:44.287Z"
   },
   {
    "duration": 1692,
    "start_time": "2022-01-14T20:26:27.087Z"
   },
   {
    "duration": 1619,
    "start_time": "2022-01-14T20:26:34.221Z"
   },
   {
    "duration": 1682,
    "start_time": "2022-01-14T20:32:42.510Z"
   },
   {
    "duration": 3,
    "start_time": "2022-01-14T20:34:18.218Z"
   },
   {
    "duration": 15,
    "start_time": "2022-01-14T20:36:52.454Z"
   },
   {
    "duration": 11,
    "start_time": "2022-01-14T20:37:00.777Z"
   },
   {
    "duration": 11,
    "start_time": "2022-01-14T20:37:15.941Z"
   },
   {
    "duration": 15,
    "start_time": "2022-01-14T20:37:47.376Z"
   },
   {
    "duration": 14,
    "start_time": "2022-01-14T20:38:47.997Z"
   },
   {
    "duration": 20,
    "start_time": "2022-01-14T20:39:24.706Z"
   },
   {
    "duration": 21,
    "start_time": "2022-01-14T20:39:28.713Z"
   },
   {
    "duration": 14,
    "start_time": "2022-01-14T20:39:35.885Z"
   },
   {
    "duration": 226,
    "start_time": "2022-01-15T14:08:45.340Z"
   },
   {
    "duration": 199,
    "start_time": "2022-01-15T14:09:39.390Z"
   },
   {
    "duration": 195,
    "start_time": "2022-01-15T14:09:59.230Z"
   },
   {
    "duration": 170,
    "start_time": "2022-01-15T14:18:06.926Z"
   },
   {
    "duration": 201,
    "start_time": "2022-01-15T14:18:10.073Z"
   },
   {
    "duration": 178,
    "start_time": "2022-01-15T14:19:08.293Z"
   },
   {
    "duration": 187,
    "start_time": "2022-01-15T14:20:26.935Z"
   },
   {
    "duration": 177,
    "start_time": "2022-01-15T14:22:06.263Z"
   },
   {
    "duration": 212,
    "start_time": "2022-01-15T14:30:20.738Z"
   },
   {
    "duration": 181,
    "start_time": "2022-01-15T14:38:25.718Z"
   },
   {
    "duration": 179,
    "start_time": "2022-01-15T14:39:12.335Z"
   },
   {
    "duration": 261,
    "start_time": "2022-01-15T14:39:32.022Z"
   },
   {
    "duration": 178,
    "start_time": "2022-01-15T14:47:48.024Z"
   },
   {
    "duration": 194,
    "start_time": "2022-01-15T14:50:15.236Z"
   },
   {
    "duration": 545,
    "start_time": "2022-01-15T14:54:11.126Z"
   },
   {
    "duration": 4,
    "start_time": "2022-01-15T14:54:29.323Z"
   },
   {
    "duration": 13,
    "start_time": "2022-01-15T14:55:25.060Z"
   },
   {
    "duration": 8,
    "start_time": "2022-01-15T14:57:59.507Z"
   },
   {
    "duration": 4,
    "start_time": "2022-01-15T14:58:07.377Z"
   },
   {
    "duration": 2,
    "start_time": "2022-01-15T14:58:12.218Z"
   },
   {
    "duration": 7,
    "start_time": "2022-01-15T14:58:46.948Z"
   },
   {
    "duration": 7,
    "start_time": "2022-01-15T15:01:16.134Z"
   },
   {
    "duration": 57,
    "start_time": "2022-01-15T15:38:23.220Z"
   },
   {
    "duration": 69,
    "start_time": "2022-01-15T15:38:51.717Z"
   },
   {
    "duration": 58,
    "start_time": "2022-01-15T15:39:20.012Z"
   },
   {
    "duration": 351,
    "start_time": "2022-01-15T15:40:29.894Z"
   },
   {
    "duration": 5,
    "start_time": "2022-01-15T15:41:23.522Z"
   },
   {
    "duration": 89,
    "start_time": "2022-01-15T15:43:44.138Z"
   },
   {
    "duration": 63,
    "start_time": "2022-01-15T15:44:14.310Z"
   },
   {
    "duration": 237,
    "start_time": "2022-01-15T15:45:54.978Z"
   },
   {
    "duration": 4,
    "start_time": "2022-01-15T15:46:12.693Z"
   },
   {
    "duration": 4,
    "start_time": "2022-01-15T15:46:20.557Z"
   },
   {
    "duration": 4,
    "start_time": "2022-01-15T15:50:16.761Z"
   },
   {
    "duration": 4,
    "start_time": "2022-01-15T15:50:21.228Z"
   },
   {
    "duration": 3,
    "start_time": "2022-01-15T15:50:41.353Z"
   },
   {
    "duration": 4711,
    "start_time": "2022-01-15T16:26:40.859Z"
   },
   {
    "duration": 3,
    "start_time": "2022-01-15T16:31:52.817Z"
   },
   {
    "duration": 63,
    "start_time": "2022-01-15T16:40:04.061Z"
   },
   {
    "duration": 5132,
    "start_time": "2022-01-15T16:40:36.532Z"
   },
   {
    "duration": 53,
    "start_time": "2022-01-15T16:41:52.717Z"
   },
   {
    "duration": 73,
    "start_time": "2022-01-15T16:42:16.004Z"
   },
   {
    "duration": 66,
    "start_time": "2022-01-15T16:44:44.556Z"
   },
   {
    "duration": 6800,
    "start_time": "2022-01-15T16:46:40.129Z"
   },
   {
    "duration": 55,
    "start_time": "2022-01-15T16:47:00.450Z"
   },
   {
    "duration": 65,
    "start_time": "2022-01-15T16:47:34.348Z"
   },
   {
    "duration": 68,
    "start_time": "2022-01-15T16:48:00.952Z"
   },
   {
    "duration": 61,
    "start_time": "2022-01-15T16:48:10.768Z"
   },
   {
    "duration": 64,
    "start_time": "2022-01-15T16:48:23.678Z"
   },
   {
    "duration": 1090,
    "start_time": "2022-01-15T16:48:42.631Z"
   },
   {
    "duration": 4787,
    "start_time": "2022-01-15T16:50:52.389Z"
   },
   {
    "duration": 4,
    "start_time": "2022-01-15T16:51:15.437Z"
   },
   {
    "duration": 2,
    "start_time": "2022-01-15T16:51:18.217Z"
   },
   {
    "duration": 204,
    "start_time": "2022-01-15T16:55:36.013Z"
   },
   {
    "duration": 181,
    "start_time": "2022-01-15T16:56:18.924Z"
   },
   {
    "duration": 186,
    "start_time": "2022-01-15T16:57:11.799Z"
   },
   {
    "duration": 181,
    "start_time": "2022-01-15T16:58:09.044Z"
   },
   {
    "duration": 3,
    "start_time": "2022-01-15T17:00:01.929Z"
   },
   {
    "duration": 4,
    "start_time": "2022-01-15T17:00:05.336Z"
   },
   {
    "duration": 181,
    "start_time": "2022-01-15T17:00:21.585Z"
   },
   {
    "duration": 4,
    "start_time": "2022-01-15T17:02:01.020Z"
   },
   {
    "duration": 222,
    "start_time": "2022-01-15T17:03:26.556Z"
   },
   {
    "duration": 193,
    "start_time": "2022-01-15T17:11:02.374Z"
   },
   {
    "duration": 194,
    "start_time": "2022-01-15T17:11:32.159Z"
   },
   {
    "duration": 179,
    "start_time": "2022-01-15T17:12:06.317Z"
   },
   {
    "duration": 172,
    "start_time": "2022-01-15T17:12:12.399Z"
   },
   {
    "duration": 548,
    "start_time": "2022-01-15T17:12:21.587Z"
   },
   {
    "duration": 3,
    "start_time": "2022-01-15T17:14:27.563Z"
   },
   {
    "duration": 122,
    "start_time": "2022-01-15T17:14:27.568Z"
   },
   {
    "duration": 21,
    "start_time": "2022-01-15T17:14:27.692Z"
   },
   {
    "duration": 24,
    "start_time": "2022-01-15T17:14:27.715Z"
   },
   {
    "duration": 4,
    "start_time": "2022-01-15T17:14:27.740Z"
   },
   {
    "duration": 20,
    "start_time": "2022-01-15T17:14:27.745Z"
   },
   {
    "duration": 3,
    "start_time": "2022-01-15T17:14:27.766Z"
   },
   {
    "duration": 47,
    "start_time": "2022-01-15T17:14:27.771Z"
   },
   {
    "duration": 16,
    "start_time": "2022-01-15T17:14:27.820Z"
   },
   {
    "duration": 23,
    "start_time": "2022-01-15T17:14:27.838Z"
   },
   {
    "duration": 68,
    "start_time": "2022-01-15T17:14:27.863Z"
   },
   {
    "duration": 62,
    "start_time": "2022-01-15T17:14:27.932Z"
   },
   {
    "duration": 53,
    "start_time": "2022-01-15T17:14:27.996Z"
   },
   {
    "duration": 6,
    "start_time": "2022-01-15T17:14:28.051Z"
   },
   {
    "duration": 4,
    "start_time": "2022-01-15T17:14:28.058Z"
   },
   {
    "duration": 20,
    "start_time": "2022-01-15T17:14:28.064Z"
   },
   {
    "duration": 6,
    "start_time": "2022-01-15T17:14:28.085Z"
   },
   {
    "duration": 45,
    "start_time": "2022-01-15T17:14:28.093Z"
   },
   {
    "duration": 27,
    "start_time": "2022-01-15T17:14:28.140Z"
   },
   {
    "duration": 3,
    "start_time": "2022-01-15T17:14:28.168Z"
   },
   {
    "duration": 18,
    "start_time": "2022-01-15T17:14:28.173Z"
   },
   {
    "duration": 13,
    "start_time": "2022-01-15T17:14:28.213Z"
   },
   {
    "duration": 14,
    "start_time": "2022-01-15T17:14:28.228Z"
   },
   {
    "duration": 13,
    "start_time": "2022-01-15T17:14:28.243Z"
   },
   {
    "duration": 15,
    "start_time": "2022-01-15T17:14:28.258Z"
   },
   {
    "duration": 49,
    "start_time": "2022-01-15T17:14:28.274Z"
   },
   {
    "duration": 10,
    "start_time": "2022-01-15T17:14:28.326Z"
   },
   {
    "duration": 6,
    "start_time": "2022-01-15T17:14:28.338Z"
   },
   {
    "duration": 6,
    "start_time": "2022-01-15T17:14:28.346Z"
   },
   {
    "duration": 3,
    "start_time": "2022-01-15T17:14:28.354Z"
   },
   {
    "duration": 5762,
    "start_time": "2022-01-15T17:14:28.359Z"
   },
   {
    "duration": -837,
    "start_time": "2022-01-15T17:14:34.960Z"
   },
   {
    "duration": -838,
    "start_time": "2022-01-15T17:14:34.962Z"
   },
   {
    "duration": -840,
    "start_time": "2022-01-15T17:14:34.965Z"
   },
   {
    "duration": -841,
    "start_time": "2022-01-15T17:14:34.967Z"
   },
   {
    "duration": -842,
    "start_time": "2022-01-15T17:14:34.969Z"
   },
   {
    "duration": -850,
    "start_time": "2022-01-15T17:14:34.978Z"
   },
   {
    "duration": -1128,
    "start_time": "2022-01-15T17:14:35.256Z"
   },
   {
    "duration": 7,
    "start_time": "2022-01-15T17:15:34.566Z"
   },
   {
    "duration": 7,
    "start_time": "2022-01-15T17:15:38.318Z"
   },
   {
    "duration": 224,
    "start_time": "2022-01-15T17:20:44.635Z"
   },
   {
    "duration": 64,
    "start_time": "2022-01-15T17:35:01.496Z"
   },
   {
    "duration": 4,
    "start_time": "2022-01-15T17:35:19.914Z"
   },
   {
    "duration": 223,
    "start_time": "2022-01-15T17:35:29.238Z"
   },
   {
    "duration": 199,
    "start_time": "2022-01-15T17:36:37.332Z"
   },
   {
    "duration": 59,
    "start_time": "2022-01-15T17:38:50.368Z"
   },
   {
    "duration": 2,
    "start_time": "2022-01-15T17:39:18.598Z"
   },
   {
    "duration": 3,
    "start_time": "2022-01-15T17:43:07.496Z"
   },
   {
    "duration": 187,
    "start_time": "2022-01-15T17:43:42.348Z"
   },
   {
    "duration": 172,
    "start_time": "2022-01-15T17:49:16.806Z"
   },
   {
    "duration": 211,
    "start_time": "2022-01-15T17:49:19.156Z"
   },
   {
    "duration": 219,
    "start_time": "2022-01-15T17:49:20.433Z"
   },
   {
    "duration": 175,
    "start_time": "2022-01-15T17:49:21.940Z"
   },
   {
    "duration": 189,
    "start_time": "2022-01-15T17:50:33.960Z"
   },
   {
    "duration": 185,
    "start_time": "2022-01-15T17:58:55.831Z"
   },
   {
    "duration": 188,
    "start_time": "2022-01-15T18:04:18.474Z"
   },
   {
    "duration": 214,
    "start_time": "2022-01-15T18:07:47.242Z"
   },
   {
    "duration": 188,
    "start_time": "2022-01-15T18:07:58.334Z"
   },
   {
    "duration": 58,
    "start_time": "2022-01-15T18:13:55.316Z"
   },
   {
    "duration": 202,
    "start_time": "2022-01-15T18:14:05.916Z"
   },
   {
    "duration": 177,
    "start_time": "2022-01-15T18:15:47.365Z"
   },
   {
    "duration": 207,
    "start_time": "2022-01-15T18:16:27.015Z"
   },
   {
    "duration": 526,
    "start_time": "2022-01-15T18:17:35.036Z"
   },
   {
    "duration": 112,
    "start_time": "2022-01-15T18:17:35.563Z"
   },
   {
    "duration": 16,
    "start_time": "2022-01-15T18:17:35.677Z"
   },
   {
    "duration": 35,
    "start_time": "2022-01-15T18:17:35.695Z"
   },
   {
    "duration": 3,
    "start_time": "2022-01-15T18:17:35.732Z"
   },
   {
    "duration": 17,
    "start_time": "2022-01-15T18:17:35.737Z"
   },
   {
    "duration": 3,
    "start_time": "2022-01-15T18:17:35.756Z"
   },
   {
    "duration": 20,
    "start_time": "2022-01-15T18:17:35.762Z"
   },
   {
    "duration": 15,
    "start_time": "2022-01-15T18:17:35.812Z"
   },
   {
    "duration": 19,
    "start_time": "2022-01-15T18:17:35.829Z"
   },
   {
    "duration": 66,
    "start_time": "2022-01-15T18:17:35.850Z"
   },
   {
    "duration": 57,
    "start_time": "2022-01-15T18:17:35.918Z"
   },
   {
    "duration": 60,
    "start_time": "2022-01-15T18:17:35.977Z"
   },
   {
    "duration": 7,
    "start_time": "2022-01-15T18:17:36.039Z"
   },
   {
    "duration": 3,
    "start_time": "2022-01-15T18:17:36.048Z"
   },
   {
    "duration": 14,
    "start_time": "2022-01-15T18:17:36.053Z"
   },
   {
    "duration": 7,
    "start_time": "2022-01-15T18:17:36.069Z"
   },
   {
    "duration": 55,
    "start_time": "2022-01-15T18:17:36.077Z"
   },
   {
    "duration": 26,
    "start_time": "2022-01-15T18:17:36.134Z"
   },
   {
    "duration": 4,
    "start_time": "2022-01-15T18:17:36.162Z"
   },
   {
    "duration": 17,
    "start_time": "2022-01-15T18:17:36.167Z"
   },
   {
    "duration": 33,
    "start_time": "2022-01-15T18:17:36.185Z"
   },
   {
    "duration": 12,
    "start_time": "2022-01-15T18:17:36.221Z"
   },
   {
    "duration": 12,
    "start_time": "2022-01-15T18:17:36.235Z"
   },
   {
    "duration": 14,
    "start_time": "2022-01-15T18:17:36.248Z"
   },
   {
    "duration": 12,
    "start_time": "2022-01-15T18:17:36.264Z"
   },
   {
    "duration": 9,
    "start_time": "2022-01-15T18:17:36.313Z"
   },
   {
    "duration": 18,
    "start_time": "2022-01-15T18:17:36.323Z"
   },
   {
    "duration": 15,
    "start_time": "2022-01-15T18:17:36.343Z"
   },
   {
    "duration": 4,
    "start_time": "2022-01-15T18:17:36.359Z"
   },
   {
    "duration": 406,
    "start_time": "2022-01-15T18:17:36.364Z"
   },
   {
    "duration": -701,
    "start_time": "2022-01-15T18:17:37.473Z"
   },
   {
    "duration": -702,
    "start_time": "2022-01-15T18:17:37.475Z"
   },
   {
    "duration": -703,
    "start_time": "2022-01-15T18:17:37.477Z"
   },
   {
    "duration": -704,
    "start_time": "2022-01-15T18:17:37.479Z"
   },
   {
    "duration": -708,
    "start_time": "2022-01-15T18:17:37.484Z"
   },
   {
    "duration": -712,
    "start_time": "2022-01-15T18:17:37.489Z"
   },
   {
    "duration": -713,
    "start_time": "2022-01-15T18:17:37.491Z"
   },
   {
    "duration": 7,
    "start_time": "2022-01-15T18:18:51.084Z"
   },
   {
    "duration": 4,
    "start_time": "2022-01-15T18:23:20.646Z"
   },
   {
    "duration": 64,
    "start_time": "2022-01-15T18:31:09.531Z"
   },
   {
    "duration": 4,
    "start_time": "2022-01-15T18:31:20.139Z"
   },
   {
    "duration": 230,
    "start_time": "2022-01-15T18:32:47.875Z"
   },
   {
    "duration": 506,
    "start_time": "2022-01-15T18:33:05.432Z"
   },
   {
    "duration": 109,
    "start_time": "2022-01-15T18:33:05.940Z"
   },
   {
    "duration": 15,
    "start_time": "2022-01-15T18:33:06.051Z"
   },
   {
    "duration": 22,
    "start_time": "2022-01-15T18:33:06.068Z"
   },
   {
    "duration": 13,
    "start_time": "2022-01-15T18:33:06.091Z"
   },
   {
    "duration": 20,
    "start_time": "2022-01-15T18:33:06.106Z"
   },
   {
    "duration": 3,
    "start_time": "2022-01-15T18:33:06.128Z"
   },
   {
    "duration": 22,
    "start_time": "2022-01-15T18:33:06.133Z"
   },
   {
    "duration": 16,
    "start_time": "2022-01-15T18:33:06.157Z"
   },
   {
    "duration": 18,
    "start_time": "2022-01-15T18:33:06.174Z"
   },
   {
    "duration": 66,
    "start_time": "2022-01-15T18:33:06.193Z"
   },
   {
    "duration": 68,
    "start_time": "2022-01-15T18:33:06.261Z"
   },
   {
    "duration": 42,
    "start_time": "2022-01-15T18:33:06.331Z"
   },
   {
    "duration": 5,
    "start_time": "2022-01-15T18:33:06.375Z"
   },
   {
    "duration": 13,
    "start_time": "2022-01-15T18:33:06.381Z"
   },
   {
    "duration": 18,
    "start_time": "2022-01-15T18:33:06.396Z"
   },
   {
    "duration": 6,
    "start_time": "2022-01-15T18:33:06.416Z"
   },
   {
    "duration": 26,
    "start_time": "2022-01-15T18:33:06.423Z"
   },
   {
    "duration": 25,
    "start_time": "2022-01-15T18:33:06.450Z"
   },
   {
    "duration": 3,
    "start_time": "2022-01-15T18:33:06.476Z"
   },
   {
    "duration": 38,
    "start_time": "2022-01-15T18:33:06.480Z"
   },
   {
    "duration": 11,
    "start_time": "2022-01-15T18:33:06.519Z"
   },
   {
    "duration": 12,
    "start_time": "2022-01-15T18:33:06.531Z"
   },
   {
    "duration": 10,
    "start_time": "2022-01-15T18:33:06.544Z"
   },
   {
    "duration": 12,
    "start_time": "2022-01-15T18:33:06.556Z"
   },
   {
    "duration": 11,
    "start_time": "2022-01-15T18:33:06.569Z"
   },
   {
    "duration": 7,
    "start_time": "2022-01-15T18:33:06.611Z"
   },
   {
    "duration": 16,
    "start_time": "2022-01-15T18:33:06.620Z"
   },
   {
    "duration": 14,
    "start_time": "2022-01-15T18:33:06.638Z"
   },
   {
    "duration": 394,
    "start_time": "2022-01-15T18:33:06.653Z"
   },
   {
    "duration": -689,
    "start_time": "2022-01-15T18:33:07.737Z"
   },
   {
    "duration": -690,
    "start_time": "2022-01-15T18:33:07.739Z"
   },
   {
    "duration": -691,
    "start_time": "2022-01-15T18:33:07.741Z"
   },
   {
    "duration": -692,
    "start_time": "2022-01-15T18:33:07.743Z"
   },
   {
    "duration": -693,
    "start_time": "2022-01-15T18:33:07.745Z"
   },
   {
    "duration": -694,
    "start_time": "2022-01-15T18:33:07.747Z"
   },
   {
    "duration": -694,
    "start_time": "2022-01-15T18:33:07.748Z"
   },
   {
    "duration": -696,
    "start_time": "2022-01-15T18:33:07.750Z"
   },
   {
    "duration": 479,
    "start_time": "2022-01-15T18:33:54.866Z"
   },
   {
    "duration": 11,
    "start_time": "2022-01-15T18:38:12.915Z"
   },
   {
    "duration": 8,
    "start_time": "2022-01-15T18:38:25.153Z"
   },
   {
    "duration": 9,
    "start_time": "2022-01-15T18:38:30.361Z"
   },
   {
    "duration": 7,
    "start_time": "2022-01-15T18:38:32.334Z"
   },
   {
    "duration": 73,
    "start_time": "2022-01-15T18:43:34.058Z"
   },
   {
    "duration": 189,
    "start_time": "2022-01-15T18:43:43.733Z"
   },
   {
    "duration": 7,
    "start_time": "2022-01-15T18:45:11.361Z"
   },
   {
    "duration": 199,
    "start_time": "2022-01-15T18:46:01.241Z"
   },
   {
    "duration": 5733,
    "start_time": "2022-01-15T18:46:49.849Z"
   },
   {
    "duration": 5491,
    "start_time": "2022-01-15T18:47:55.931Z"
   },
   {
    "duration": 2,
    "start_time": "2022-01-15T18:48:02.195Z"
   },
   {
    "duration": 5338,
    "start_time": "2022-01-15T18:48:40.509Z"
   },
   {
    "duration": 236,
    "start_time": "2022-01-15T18:50:37.597Z"
   },
   {
    "duration": 3,
    "start_time": "2022-01-15T18:50:57.136Z"
   },
   {
    "duration": 180,
    "start_time": "2022-01-15T18:50:58.169Z"
   },
   {
    "duration": 181,
    "start_time": "2022-01-15T18:51:01.301Z"
   },
   {
    "duration": 177,
    "start_time": "2022-01-15T18:51:01.836Z"
   },
   {
    "duration": 4,
    "start_time": "2022-01-15T18:51:33.910Z"
   },
   {
    "duration": 188,
    "start_time": "2022-01-15T18:51:40.286Z"
   },
   {
    "duration": 178,
    "start_time": "2022-01-15T18:51:44.166Z"
   },
   {
    "duration": 196,
    "start_time": "2022-01-15T18:51:44.978Z"
   },
   {
    "duration": 235,
    "start_time": "2022-01-15T18:51:45.658Z"
   },
   {
    "duration": 187,
    "start_time": "2022-01-15T18:52:54.538Z"
   },
   {
    "duration": 183,
    "start_time": "2022-01-15T18:53:24.804Z"
   },
   {
    "duration": 3,
    "start_time": "2022-01-15T18:53:34.421Z"
   },
   {
    "duration": 373,
    "start_time": "2022-01-15T18:53:36.710Z"
   },
   {
    "duration": 365,
    "start_time": "2022-01-15T18:53:46.426Z"
   },
   {
    "duration": 918,
    "start_time": "2022-01-15T18:53:48.110Z"
   },
   {
    "duration": 4,
    "start_time": "2022-01-15T18:56:54.421Z"
   },
   {
    "duration": 3,
    "start_time": "2022-01-15T18:56:59.535Z"
   },
   {
    "duration": 481,
    "start_time": "2022-01-15T18:57:16.469Z"
   },
   {
    "duration": 117,
    "start_time": "2022-01-15T18:57:18.823Z"
   },
   {
    "duration": 15,
    "start_time": "2022-01-15T18:57:39.854Z"
   },
   {
    "duration": 22,
    "start_time": "2022-01-15T18:57:49.653Z"
   },
   {
    "duration": 4,
    "start_time": "2022-01-15T18:57:55.650Z"
   },
   {
    "duration": 20,
    "start_time": "2022-01-15T18:57:58.021Z"
   },
   {
    "duration": 3,
    "start_time": "2022-01-15T18:57:59.567Z"
   },
   {
    "duration": 20,
    "start_time": "2022-01-15T18:58:06.555Z"
   },
   {
    "duration": 16,
    "start_time": "2022-01-15T18:58:14.089Z"
   },
   {
    "duration": 23,
    "start_time": "2022-01-15T18:58:16.555Z"
   },
   {
    "duration": 53,
    "start_time": "2022-01-15T18:58:20.543Z"
   },
   {
    "duration": 61,
    "start_time": "2022-01-15T18:58:23.346Z"
   },
   {
    "duration": 48,
    "start_time": "2022-01-15T18:58:24.990Z"
   },
   {
    "duration": 6,
    "start_time": "2022-01-15T18:58:30.447Z"
   },
   {
    "duration": 2,
    "start_time": "2022-01-15T18:58:34.709Z"
   },
   {
    "duration": 13,
    "start_time": "2022-01-15T18:58:36.331Z"
   },
   {
    "duration": 7,
    "start_time": "2022-01-15T18:58:37.763Z"
   },
   {
    "duration": 30,
    "start_time": "2022-01-15T18:58:46.107Z"
   },
   {
    "duration": 29,
    "start_time": "2022-01-15T18:58:47.900Z"
   },
   {
    "duration": 3,
    "start_time": "2022-01-15T18:58:50.761Z"
   },
   {
    "duration": 15,
    "start_time": "2022-01-15T18:58:52.435Z"
   },
   {
    "duration": 13,
    "start_time": "2022-01-15T18:58:53.917Z"
   },
   {
    "duration": 15,
    "start_time": "2022-01-15T18:58:54.892Z"
   },
   {
    "duration": 14,
    "start_time": "2022-01-15T18:58:55.655Z"
   },
   {
    "duration": 16,
    "start_time": "2022-01-15T18:58:56.082Z"
   },
   {
    "duration": 14,
    "start_time": "2022-01-15T18:58:56.735Z"
   },
   {
    "duration": 9,
    "start_time": "2022-01-15T18:59:03.592Z"
   },
   {
    "duration": 18,
    "start_time": "2022-01-15T18:59:08.815Z"
   },
   {
    "duration": 17,
    "start_time": "2022-01-15T18:59:10.540Z"
   },
   {
    "duration": 4,
    "start_time": "2022-01-15T18:59:13.689Z"
   },
   {
    "duration": 10,
    "start_time": "2022-01-15T18:59:15.460Z"
   },
   {
    "duration": 9,
    "start_time": "2022-01-15T18:59:18.315Z"
   },
   {
    "duration": 10,
    "start_time": "2022-01-15T18:59:18.988Z"
   },
   {
    "duration": 8,
    "start_time": "2022-01-15T18:59:19.607Z"
   },
   {
    "duration": 11,
    "start_time": "2022-01-15T18:59:28.292Z"
   },
   {
    "duration": 201,
    "start_time": "2022-01-15T19:01:59.729Z"
   },
   {
    "duration": 8,
    "start_time": "2022-01-15T19:04:21.294Z"
   },
   {
    "duration": 173,
    "start_time": "2022-01-15T19:06:10.226Z"
   },
   {
    "duration": 4,
    "start_time": "2022-01-15T19:06:21.296Z"
   },
   {
    "duration": 201,
    "start_time": "2022-01-15T19:07:00.372Z"
   },
   {
    "duration": 197,
    "start_time": "2022-01-15T19:09:05.090Z"
   },
   {
    "duration": 189,
    "start_time": "2022-01-15T19:11:18.349Z"
   },
   {
    "duration": 189,
    "start_time": "2022-01-15T19:11:29.607Z"
   },
   {
    "duration": 176,
    "start_time": "2022-01-15T19:12:17.106Z"
   },
   {
    "duration": 278,
    "start_time": "2022-01-15T19:12:45.710Z"
   },
   {
    "duration": 4,
    "start_time": "2022-01-15T19:12:48.992Z"
   },
   {
    "duration": 178,
    "start_time": "2022-01-15T19:13:31.457Z"
   },
   {
    "duration": 198,
    "start_time": "2022-01-15T19:13:51.638Z"
   },
   {
    "duration": 207,
    "start_time": "2022-01-15T19:13:53.816Z"
   },
   {
    "duration": 188,
    "start_time": "2022-01-15T19:13:56.600Z"
   },
   {
    "duration": 4,
    "start_time": "2022-01-15T19:13:58.604Z"
   },
   {
    "duration": 3,
    "start_time": "2022-01-15T19:15:11.357Z"
   },
   {
    "duration": 115,
    "start_time": "2022-01-15T19:15:12.845Z"
   },
   {
    "duration": 9,
    "start_time": "2022-01-15T19:15:14.004Z"
   },
   {
    "duration": 22,
    "start_time": "2022-01-15T19:15:15.271Z"
   },
   {
    "duration": 4,
    "start_time": "2022-01-15T19:15:17.927Z"
   },
   {
    "duration": 10,
    "start_time": "2022-01-15T19:15:18.913Z"
   },
   {
    "duration": 3,
    "start_time": "2022-01-15T19:15:19.832Z"
   },
   {
    "duration": 20,
    "start_time": "2022-01-15T19:15:20.628Z"
   },
   {
    "duration": 15,
    "start_time": "2022-01-15T19:15:21.946Z"
   },
   {
    "duration": 20,
    "start_time": "2022-01-15T19:15:22.769Z"
   },
   {
    "duration": 50,
    "start_time": "2022-01-15T19:15:23.672Z"
   },
   {
    "duration": 67,
    "start_time": "2022-01-15T19:15:24.576Z"
   },
   {
    "duration": 41,
    "start_time": "2022-01-15T19:15:25.576Z"
   },
   {
    "duration": 7,
    "start_time": "2022-01-15T19:15:27.011Z"
   },
   {
    "duration": 3,
    "start_time": "2022-01-15T19:15:28.160Z"
   },
   {
    "duration": 13,
    "start_time": "2022-01-15T19:15:29.156Z"
   },
   {
    "duration": 6,
    "start_time": "2022-01-15T19:15:30.130Z"
   },
   {
    "duration": 26,
    "start_time": "2022-01-15T19:15:36.282Z"
   },
   {
    "duration": 26,
    "start_time": "2022-01-15T19:15:37.502Z"
   },
   {
    "duration": 3,
    "start_time": "2022-01-15T19:15:39.111Z"
   },
   {
    "duration": 14,
    "start_time": "2022-01-15T19:15:40.735Z"
   },
   {
    "duration": 12,
    "start_time": "2022-01-15T19:15:41.171Z"
   },
   {
    "duration": 13,
    "start_time": "2022-01-15T19:15:41.615Z"
   },
   {
    "duration": 13,
    "start_time": "2022-01-15T19:15:42.043Z"
   },
   {
    "duration": 14,
    "start_time": "2022-01-15T19:15:42.439Z"
   },
   {
    "duration": 12,
    "start_time": "2022-01-15T19:15:42.895Z"
   },
   {
    "duration": 7,
    "start_time": "2022-01-15T19:15:44.028Z"
   },
   {
    "duration": 16,
    "start_time": "2022-01-15T19:15:47.036Z"
   },
   {
    "duration": 16,
    "start_time": "2022-01-15T19:15:47.617Z"
   },
   {
    "duration": 4,
    "start_time": "2022-01-15T19:15:48.682Z"
   },
   {
    "duration": 9,
    "start_time": "2022-01-15T19:15:49.748Z"
   },
   {
    "duration": 8,
    "start_time": "2022-01-15T19:15:50.522Z"
   },
   {
    "duration": 9,
    "start_time": "2022-01-15T19:15:50.871Z"
   },
   {
    "duration": 8,
    "start_time": "2022-01-15T19:15:51.361Z"
   },
   {
    "duration": 9,
    "start_time": "2022-01-15T19:15:53.384Z"
   },
   {
    "duration": 188,
    "start_time": "2022-01-15T19:15:55.003Z"
   },
   {
    "duration": 7,
    "start_time": "2022-01-15T19:16:00.295Z"
   },
   {
    "duration": 5,
    "start_time": "2022-01-15T19:16:02.203Z"
   },
   {
    "duration": 202,
    "start_time": "2022-01-15T19:19:23.493Z"
   },
   {
    "duration": 208,
    "start_time": "2022-01-15T19:20:07.509Z"
   },
   {
    "duration": 182,
    "start_time": "2022-01-15T19:20:20.519Z"
   },
   {
    "duration": 190,
    "start_time": "2022-01-15T19:20:25.164Z"
   },
   {
    "duration": 212,
    "start_time": "2022-01-15T19:20:28.895Z"
   },
   {
    "duration": 201,
    "start_time": "2022-01-15T19:21:12.621Z"
   },
   {
    "duration": 4,
    "start_time": "2022-01-15T19:21:17.495Z"
   },
   {
    "duration": 193,
    "start_time": "2022-01-15T19:21:58.951Z"
   },
   {
    "duration": 192,
    "start_time": "2022-01-15T19:26:15.735Z"
   },
   {
    "duration": 188,
    "start_time": "2022-01-15T19:26:52.464Z"
   },
   {
    "duration": 187,
    "start_time": "2022-01-15T19:26:56.139Z"
   },
   {
    "duration": 4,
    "start_time": "2022-01-15T19:31:10.027Z"
   },
   {
    "duration": 4,
    "start_time": "2022-01-15T19:31:37.134Z"
   },
   {
    "duration": 4,
    "start_time": "2022-01-15T19:31:42.767Z"
   },
   {
    "duration": 5,
    "start_time": "2022-01-15T19:31:47.478Z"
   },
   {
    "duration": 4,
    "start_time": "2022-01-15T19:45:38.330Z"
   },
   {
    "duration": 5537,
    "start_time": "2022-01-15T19:49:34.899Z"
   },
   {
    "duration": 5668,
    "start_time": "2022-01-15T19:49:57.735Z"
   },
   {
    "duration": -732,
    "start_time": "2022-01-15T19:50:04.137Z"
   },
   {
    "duration": -736,
    "start_time": "2022-01-15T19:50:04.142Z"
   },
   {
    "duration": -737,
    "start_time": "2022-01-15T19:50:04.144Z"
   },
   {
    "duration": 5569,
    "start_time": "2022-01-15T19:50:13.305Z"
   },
   {
    "duration": -728,
    "start_time": "2022-01-15T19:50:19.604Z"
   },
   {
    "duration": 4,
    "start_time": "2022-01-15T20:08:21.758Z"
   },
   {
    "duration": 5739,
    "start_time": "2022-01-15T20:08:29.240Z"
   },
   {
    "duration": -715,
    "start_time": "2022-01-15T20:08:35.696Z"
   },
   {
    "duration": -715,
    "start_time": "2022-01-15T20:08:35.697Z"
   },
   {
    "duration": -716,
    "start_time": "2022-01-15T20:08:35.699Z"
   },
   {
    "duration": 5224,
    "start_time": "2022-01-15T20:10:56.526Z"
   },
   {
    "duration": -725,
    "start_time": "2022-01-15T20:11:02.477Z"
   },
   {
    "duration": -728,
    "start_time": "2022-01-15T20:11:02.481Z"
   },
   {
    "duration": -730,
    "start_time": "2022-01-15T20:11:02.483Z"
   },
   {
    "duration": 4,
    "start_time": "2022-01-15T20:12:17.235Z"
   },
   {
    "duration": 228,
    "start_time": "2022-01-15T20:12:18.957Z"
   },
   {
    "duration": 207,
    "start_time": "2022-01-15T20:13:24.107Z"
   },
   {
    "duration": 194,
    "start_time": "2022-01-15T20:13:25.299Z"
   },
   {
    "duration": 189,
    "start_time": "2022-01-15T20:13:31.539Z"
   },
   {
    "duration": 209,
    "start_time": "2022-01-15T20:13:32.919Z"
   },
   {
    "duration": 174,
    "start_time": "2022-01-15T20:13:46.427Z"
   },
   {
    "duration": 499,
    "start_time": "2022-01-15T20:16:50.959Z"
   },
   {
    "duration": 120,
    "start_time": "2022-01-15T20:16:51.459Z"
   },
   {
    "duration": 14,
    "start_time": "2022-01-15T20:16:51.581Z"
   },
   {
    "duration": 36,
    "start_time": "2022-01-15T20:16:51.597Z"
   },
   {
    "duration": 4,
    "start_time": "2022-01-15T20:16:51.634Z"
   },
   {
    "duration": 21,
    "start_time": "2022-01-15T20:16:51.639Z"
   },
   {
    "duration": 4,
    "start_time": "2022-01-15T20:16:51.661Z"
   },
   {
    "duration": 22,
    "start_time": "2022-01-15T20:16:51.666Z"
   },
   {
    "duration": 36,
    "start_time": "2022-01-15T20:16:51.691Z"
   },
   {
    "duration": 20,
    "start_time": "2022-01-15T20:16:51.729Z"
   },
   {
    "duration": 80,
    "start_time": "2022-01-15T20:16:51.751Z"
   },
   {
    "duration": 80,
    "start_time": "2022-01-15T20:16:51.833Z"
   },
   {
    "duration": 56,
    "start_time": "2022-01-15T20:16:51.915Z"
   },
   {
    "duration": 6,
    "start_time": "2022-01-15T20:16:51.973Z"
   },
   {
    "duration": 2,
    "start_time": "2022-01-15T20:16:51.981Z"
   },
   {
    "duration": 40,
    "start_time": "2022-01-15T20:16:51.985Z"
   },
   {
    "duration": 6,
    "start_time": "2022-01-15T20:16:52.027Z"
   },
   {
    "duration": 27,
    "start_time": "2022-01-15T20:16:52.035Z"
   },
   {
    "duration": 26,
    "start_time": "2022-01-15T20:16:52.064Z"
   },
   {
    "duration": 4,
    "start_time": "2022-01-15T20:16:52.112Z"
   },
   {
    "duration": 20,
    "start_time": "2022-01-15T20:16:52.117Z"
   },
   {
    "duration": 12,
    "start_time": "2022-01-15T20:16:52.139Z"
   },
   {
    "duration": 12,
    "start_time": "2022-01-15T20:16:52.153Z"
   },
   {
    "duration": 12,
    "start_time": "2022-01-15T20:16:52.167Z"
   },
   {
    "duration": 15,
    "start_time": "2022-01-15T20:16:52.213Z"
   },
   {
    "duration": 13,
    "start_time": "2022-01-15T20:16:52.230Z"
   },
   {
    "duration": 7,
    "start_time": "2022-01-15T20:16:52.246Z"
   },
   {
    "duration": 18,
    "start_time": "2022-01-15T20:16:52.256Z"
   },
   {
    "duration": 51,
    "start_time": "2022-01-15T20:16:52.275Z"
   },
   {
    "duration": 4,
    "start_time": "2022-01-15T20:16:52.327Z"
   },
   {
    "duration": 16,
    "start_time": "2022-01-15T20:16:52.333Z"
   },
   {
    "duration": 10,
    "start_time": "2022-01-15T20:16:52.351Z"
   },
   {
    "duration": 21,
    "start_time": "2022-01-15T20:16:52.363Z"
   },
   {
    "duration": 17,
    "start_time": "2022-01-15T20:16:52.413Z"
   },
   {
    "duration": 222,
    "start_time": "2022-01-15T20:16:52.432Z"
   },
   {
    "duration": -707,
    "start_time": "2022-01-15T20:16:53.363Z"
   },
   {
    "duration": -709,
    "start_time": "2022-01-15T20:16:53.365Z"
   },
   {
    "duration": -709,
    "start_time": "2022-01-15T20:16:53.366Z"
   },
   {
    "duration": 2,
    "start_time": "2022-01-15T20:17:08.715Z"
   },
   {
    "duration": 117,
    "start_time": "2022-01-15T20:17:09.751Z"
   },
   {
    "duration": 10,
    "start_time": "2022-01-15T20:17:10.883Z"
   },
   {
    "duration": 23,
    "start_time": "2022-01-15T20:17:16.733Z"
   },
   {
    "duration": 3,
    "start_time": "2022-01-15T20:17:20.129Z"
   },
   {
    "duration": 19,
    "start_time": "2022-01-15T20:17:21.708Z"
   },
   {
    "duration": 4,
    "start_time": "2022-01-15T20:17:22.674Z"
   },
   {
    "duration": 20,
    "start_time": "2022-01-15T20:17:24.359Z"
   },
   {
    "duration": 23,
    "start_time": "2022-01-15T20:17:27.401Z"
   },
   {
    "duration": 33,
    "start_time": "2022-01-15T20:17:28.653Z"
   },
   {
    "duration": 49,
    "start_time": "2022-01-15T20:17:29.893Z"
   },
   {
    "duration": 54,
    "start_time": "2022-01-15T20:17:32.702Z"
   },
   {
    "duration": 44,
    "start_time": "2022-01-15T20:17:35.751Z"
   },
   {
    "duration": 7,
    "start_time": "2022-01-15T20:17:41.706Z"
   },
   {
    "duration": 3,
    "start_time": "2022-01-15T20:17:46.199Z"
   },
   {
    "duration": 14,
    "start_time": "2022-01-15T20:17:47.318Z"
   },
   {
    "duration": 6,
    "start_time": "2022-01-15T20:17:48.755Z"
   },
   {
    "duration": 29,
    "start_time": "2022-01-15T20:17:53.023Z"
   },
   {
    "duration": 48,
    "start_time": "2022-01-15T20:17:56.127Z"
   },
   {
    "duration": 29,
    "start_time": "2022-01-15T20:18:10.999Z"
   },
   {
    "duration": 3,
    "start_time": "2022-01-15T20:18:21.893Z"
   },
   {
    "duration": 16,
    "start_time": "2022-01-15T20:18:22.954Z"
   },
   {
    "duration": 13,
    "start_time": "2022-01-15T20:18:23.538Z"
   },
   {
    "duration": 15,
    "start_time": "2022-01-15T20:18:24.106Z"
   },
   {
    "duration": 14,
    "start_time": "2022-01-15T20:18:24.834Z"
   },
   {
    "duration": 15,
    "start_time": "2022-01-15T20:18:25.393Z"
   },
   {
    "duration": 15,
    "start_time": "2022-01-15T20:18:26.018Z"
   },
   {
    "duration": 8,
    "start_time": "2022-01-15T20:18:27.115Z"
   },
   {
    "duration": 21,
    "start_time": "2022-01-15T20:18:30.399Z"
   },
   {
    "duration": 26,
    "start_time": "2022-01-15T20:18:31.185Z"
   },
   {
    "duration": 4,
    "start_time": "2022-01-15T20:18:32.976Z"
   },
   {
    "duration": 14,
    "start_time": "2022-01-15T20:18:34.135Z"
   },
   {
    "duration": 10,
    "start_time": "2022-01-15T20:18:34.923Z"
   },
   {
    "duration": 14,
    "start_time": "2022-01-15T20:18:35.575Z"
   },
   {
    "duration": 11,
    "start_time": "2022-01-15T20:18:40.466Z"
   },
   {
    "duration": 201,
    "start_time": "2022-01-15T20:18:46.830Z"
   },
   {
    "duration": 208,
    "start_time": "2022-01-15T20:18:48.601Z"
   },
   {
    "duration": 225,
    "start_time": "2022-01-15T20:18:49.880Z"
   },
   {
    "duration": 182,
    "start_time": "2022-01-15T20:18:52.074Z"
   },
   {
    "duration": 60,
    "start_time": "2022-01-15T20:21:42.218Z"
   },
   {
    "duration": 63,
    "start_time": "2022-01-15T20:22:34.905Z"
   },
   {
    "duration": 190,
    "start_time": "2022-01-15T20:22:39.871Z"
   },
   {
    "duration": 188,
    "start_time": "2022-01-15T20:22:47.727Z"
   },
   {
    "duration": 22,
    "start_time": "2022-01-15T20:23:36.518Z"
   },
   {
    "duration": 11,
    "start_time": "2022-01-15T20:23:38.682Z"
   },
   {
    "duration": 20,
    "start_time": "2022-01-15T20:23:43.334Z"
   },
   {
    "duration": 8,
    "start_time": "2022-01-15T20:23:45.858Z"
   },
   {
    "duration": 30,
    "start_time": "2022-01-15T20:29:13.138Z"
   },
   {
    "duration": 31,
    "start_time": "2022-01-15T20:29:45.354Z"
   },
   {
    "duration": 11,
    "start_time": "2022-01-15T20:33:49.774Z"
   },
   {
    "duration": 7,
    "start_time": "2022-01-15T20:34:17.617Z"
   },
   {
    "duration": 202,
    "start_time": "2022-01-15T20:36:40.410Z"
   },
   {
    "duration": 21,
    "start_time": "2022-01-15T20:37:32.447Z"
   },
   {
    "duration": 7,
    "start_time": "2022-01-15T20:37:35.468Z"
   },
   {
    "duration": 20,
    "start_time": "2022-01-15T20:37:54.282Z"
   },
   {
    "duration": 8,
    "start_time": "2022-01-15T20:37:55.535Z"
   },
   {
    "duration": 854,
    "start_time": "2022-01-18T12:30:49.871Z"
   },
   {
    "duration": 198,
    "start_time": "2022-01-18T12:30:50.728Z"
   },
   {
    "duration": 34,
    "start_time": "2022-01-18T12:30:50.929Z"
   },
   {
    "duration": 42,
    "start_time": "2022-01-18T12:30:50.966Z"
   },
   {
    "duration": 13,
    "start_time": "2022-01-18T12:30:51.011Z"
   },
   {
    "duration": 54,
    "start_time": "2022-01-18T12:30:51.026Z"
   },
   {
    "duration": 15,
    "start_time": "2022-01-18T12:30:51.083Z"
   },
   {
    "duration": 60,
    "start_time": "2022-01-18T12:30:51.101Z"
   },
   {
    "duration": 29,
    "start_time": "2022-01-18T12:30:51.166Z"
   },
   {
    "duration": 30,
    "start_time": "2022-01-18T12:30:51.199Z"
   },
   {
    "duration": 123,
    "start_time": "2022-01-18T12:30:51.232Z"
   },
   {
    "duration": 134,
    "start_time": "2022-01-18T12:30:51.357Z"
   },
   {
    "duration": 122,
    "start_time": "2022-01-18T12:30:51.495Z"
   },
   {
    "duration": 13,
    "start_time": "2022-01-18T12:30:51.620Z"
   },
   {
    "duration": 24,
    "start_time": "2022-01-18T12:30:51.635Z"
   },
   {
    "duration": 24,
    "start_time": "2022-01-18T12:30:51.662Z"
   },
   {
    "duration": 9,
    "start_time": "2022-01-18T12:30:51.688Z"
   },
   {
    "duration": 68,
    "start_time": "2022-01-18T12:30:51.699Z"
   },
   {
    "duration": 44,
    "start_time": "2022-01-18T12:30:51.770Z"
   },
   {
    "duration": 5,
    "start_time": "2022-01-18T12:30:51.817Z"
   },
   {
    "duration": 51,
    "start_time": "2022-01-18T12:30:51.824Z"
   },
   {
    "duration": 17,
    "start_time": "2022-01-18T12:30:51.878Z"
   },
   {
    "duration": 18,
    "start_time": "2022-01-18T12:30:51.898Z"
   },
   {
    "duration": 46,
    "start_time": "2022-01-18T12:30:51.918Z"
   },
   {
    "duration": 19,
    "start_time": "2022-01-18T12:30:51.967Z"
   },
   {
    "duration": 20,
    "start_time": "2022-01-18T12:30:51.989Z"
   },
   {
    "duration": 19,
    "start_time": "2022-01-18T12:30:52.014Z"
   },
   {
    "duration": 29,
    "start_time": "2022-01-18T12:30:52.059Z"
   },
   {
    "duration": 26,
    "start_time": "2022-01-18T12:30:52.091Z"
   },
   {
    "duration": 5,
    "start_time": "2022-01-18T12:30:52.119Z"
   },
   {
    "duration": 50,
    "start_time": "2022-01-18T12:30:52.127Z"
   },
   {
    "duration": 23,
    "start_time": "2022-01-18T12:30:52.180Z"
   },
   {
    "duration": 56,
    "start_time": "2022-01-18T12:30:52.206Z"
   },
   {
    "duration": 16,
    "start_time": "2022-01-18T12:30:52.265Z"
   },
   {
    "duration": 31,
    "start_time": "2022-01-18T12:30:52.284Z"
   },
   {
    "duration": 50,
    "start_time": "2022-01-18T12:30:52.317Z"
   },
   {
    "duration": 21,
    "start_time": "2022-01-18T12:30:52.370Z"
   },
   {
    "duration": 13,
    "start_time": "2022-01-18T12:30:52.393Z"
   },
   {
    "duration": 374,
    "start_time": "2022-01-18T15:05:23.461Z"
   },
   {
    "duration": 314,
    "start_time": "2022-01-18T15:06:04.833Z"
   },
   {
    "duration": 223,
    "start_time": "2022-01-18T15:06:22.051Z"
   },
   {
    "duration": 269,
    "start_time": "2022-01-18T15:09:36.451Z"
   },
   {
    "duration": 250,
    "start_time": "2022-01-18T15:10:34.171Z"
   },
   {
    "duration": 88,
    "start_time": "2022-01-18T15:20:04.848Z"
   },
   {
    "duration": 248,
    "start_time": "2022-01-18T15:20:13.826Z"
   },
   {
    "duration": 248,
    "start_time": "2022-01-18T15:25:47.006Z"
   },
   {
    "duration": 224,
    "start_time": "2022-01-18T15:29:10.748Z"
   },
   {
    "duration": 273,
    "start_time": "2022-01-18T15:29:38.997Z"
   },
   {
    "duration": 246,
    "start_time": "2022-01-18T15:30:08.881Z"
   },
   {
    "duration": 238,
    "start_time": "2022-01-18T15:30:15.051Z"
   },
   {
    "duration": 533,
    "start_time": "2022-01-18T15:30:43.194Z"
   },
   {
    "duration": 128,
    "start_time": "2022-01-18T15:30:44.899Z"
   },
   {
    "duration": 17,
    "start_time": "2022-01-18T15:30:48.803Z"
   },
   {
    "duration": 25,
    "start_time": "2022-01-18T15:30:54.767Z"
   },
   {
    "duration": 4,
    "start_time": "2022-01-18T15:30:59.821Z"
   },
   {
    "duration": 21,
    "start_time": "2022-01-18T15:31:03.059Z"
   },
   {
    "duration": 4,
    "start_time": "2022-01-18T15:31:04.745Z"
   },
   {
    "duration": 23,
    "start_time": "2022-01-18T15:31:07.142Z"
   },
   {
    "duration": 22,
    "start_time": "2022-01-18T15:31:10.437Z"
   },
   {
    "duration": 24,
    "start_time": "2022-01-18T15:31:12.101Z"
   },
   {
    "duration": 59,
    "start_time": "2022-01-18T15:31:15.448Z"
   },
   {
    "duration": 69,
    "start_time": "2022-01-18T15:31:18.535Z"
   },
   {
    "duration": 55,
    "start_time": "2022-01-18T15:31:19.975Z"
   },
   {
    "duration": 38,
    "start_time": "2022-01-18T15:31:22.997Z"
   },
   {
    "duration": 3,
    "start_time": "2022-01-18T15:32:17.787Z"
   },
   {
    "duration": 14,
    "start_time": "2022-01-18T15:32:19.271Z"
   },
   {
    "duration": 8,
    "start_time": "2022-01-18T15:32:28.838Z"
   },
   {
    "duration": 32,
    "start_time": "2022-01-18T15:32:40.903Z"
   },
   {
    "duration": 13,
    "start_time": "2022-01-18T15:52:00.671Z"
   },
   {
    "duration": 5,
    "start_time": "2022-01-18T16:07:07.378Z"
   },
   {
    "duration": 272,
    "start_time": "2022-01-18T16:07:17.246Z"
   },
   {
    "duration": 291,
    "start_time": "2022-01-18T16:07:18.747Z"
   },
   {
    "duration": 304,
    "start_time": "2022-01-18T16:07:20.838Z"
   },
   {
    "duration": 252,
    "start_time": "2022-01-18T16:07:22.041Z"
   },
   {
    "duration": 4,
    "start_time": "2022-01-18T16:09:22.453Z"
   },
   {
    "duration": 304,
    "start_time": "2022-01-18T16:09:25.258Z"
   },
   {
    "duration": 243,
    "start_time": "2022-01-18T16:11:01.381Z"
   },
   {
    "duration": 249,
    "start_time": "2022-01-18T16:11:08.007Z"
   },
   {
    "duration": 296,
    "start_time": "2022-01-18T16:11:08.660Z"
   },
   {
    "duration": 4,
    "start_time": "2022-01-18T16:11:11.563Z"
   },
   {
    "duration": 239,
    "start_time": "2022-01-18T16:11:14.804Z"
   },
   {
    "duration": 301,
    "start_time": "2022-01-18T16:11:16.141Z"
   },
   {
    "duration": 233,
    "start_time": "2022-01-18T16:11:17.126Z"
   },
   {
    "duration": 268,
    "start_time": "2022-01-18T16:11:17.775Z"
   },
   {
    "duration": 290,
    "start_time": "2022-01-18T16:11:23.788Z"
   },
   {
    "duration": 244,
    "start_time": "2022-01-18T16:12:39.489Z"
   },
   {
    "duration": 241,
    "start_time": "2022-01-18T16:12:48.202Z"
   },
   {
    "duration": 254,
    "start_time": "2022-01-18T16:13:28.032Z"
   },
   {
    "duration": 619,
    "start_time": "2022-01-18T16:13:44.502Z"
   },
   {
    "duration": 139,
    "start_time": "2022-01-18T16:13:47.088Z"
   },
   {
    "duration": 17,
    "start_time": "2022-01-18T16:13:50.368Z"
   },
   {
    "duration": 27,
    "start_time": "2022-01-18T16:13:51.942Z"
   },
   {
    "duration": 4,
    "start_time": "2022-01-18T16:13:56.894Z"
   },
   {
    "duration": 22,
    "start_time": "2022-01-18T16:13:58.896Z"
   },
   {
    "duration": 5,
    "start_time": "2022-01-18T16:14:00.032Z"
   },
   {
    "duration": 23,
    "start_time": "2022-01-18T16:14:01.934Z"
   },
   {
    "duration": 18,
    "start_time": "2022-01-18T16:14:04.682Z"
   },
   {
    "duration": 22,
    "start_time": "2022-01-18T16:14:06.327Z"
   },
   {
    "duration": 57,
    "start_time": "2022-01-18T16:14:08.178Z"
   },
   {
    "duration": 71,
    "start_time": "2022-01-18T16:14:09.908Z"
   },
   {
    "duration": 51,
    "start_time": "2022-01-18T16:14:11.232Z"
   },
   {
    "duration": 36,
    "start_time": "2022-01-18T16:14:15.086Z"
   },
   {
    "duration": 3,
    "start_time": "2022-01-18T16:14:19.758Z"
   },
   {
    "duration": 15,
    "start_time": "2022-01-18T16:14:21.158Z"
   },
   {
    "duration": 6,
    "start_time": "2022-01-18T16:14:23.920Z"
   },
   {
    "duration": 34,
    "start_time": "2022-01-18T16:14:29.734Z"
   },
   {
    "duration": 11,
    "start_time": "2022-01-18T16:14:42.850Z"
   },
   {
    "duration": 3,
    "start_time": "2022-01-18T16:14:48.313Z"
   },
   {
    "duration": 20,
    "start_time": "2022-01-18T16:14:50.382Z"
   },
   {
    "duration": 14,
    "start_time": "2022-01-18T16:14:51.545Z"
   },
   {
    "duration": 16,
    "start_time": "2022-01-18T16:14:52.232Z"
   },
   {
    "duration": 16,
    "start_time": "2022-01-18T16:14:52.838Z"
   },
   {
    "duration": 27,
    "start_time": "2022-01-18T16:14:53.527Z"
   },
   {
    "duration": 15,
    "start_time": "2022-01-18T16:14:54.776Z"
   },
   {
    "duration": 8,
    "start_time": "2022-01-18T16:14:57.225Z"
   },
   {
    "duration": 20,
    "start_time": "2022-01-18T16:15:04.656Z"
   },
   {
    "duration": 18,
    "start_time": "2022-01-18T16:15:07.736Z"
   },
   {
    "duration": 4,
    "start_time": "2022-01-18T16:15:09.328Z"
   },
   {
    "duration": 15,
    "start_time": "2022-01-18T16:15:11.736Z"
   },
   {
    "duration": 14,
    "start_time": "2022-01-18T16:15:17.299Z"
   },
   {
    "duration": 16,
    "start_time": "2022-01-18T16:15:19.760Z"
   },
   {
    "duration": 12,
    "start_time": "2022-01-18T16:15:20.458Z"
   },
   {
    "duration": 23,
    "start_time": "2022-01-18T16:15:25.304Z"
   },
   {
    "duration": 7,
    "start_time": "2022-01-18T16:15:34.578Z"
   },
   {
    "duration": 16,
    "start_time": "2022-01-18T16:15:38.512Z"
   },
   {
    "duration": 8,
    "start_time": "2022-01-18T16:15:39.753Z"
   },
   {
    "duration": 28,
    "start_time": "2022-01-18T16:17:18.128Z"
   },
   {
    "duration": 4,
    "start_time": "2022-01-18T16:25:47.209Z"
   },
   {
    "duration": 15,
    "start_time": "2022-01-18T16:25:50.417Z"
   },
   {
    "duration": 4,
    "start_time": "2022-01-18T16:31:41.103Z"
   },
   {
    "duration": 545,
    "start_time": "2022-01-18T16:31:43.657Z"
   },
   {
    "duration": 524,
    "start_time": "2022-01-18T16:31:52.453Z"
   },
   {
    "duration": 558,
    "start_time": "2022-01-18T16:31:53.854Z"
   },
   {
    "duration": 520,
    "start_time": "2022-01-18T16:31:55.303Z"
   },
   {
    "duration": 3,
    "start_time": "2022-01-18T16:32:24.001Z"
   },
   {
    "duration": 58,
    "start_time": "2022-01-18T16:32:26.514Z"
   },
   {
    "duration": 67,
    "start_time": "2022-01-18T16:32:39.133Z"
   },
   {
    "duration": 56,
    "start_time": "2022-01-18T16:32:40.125Z"
   },
   {
    "duration": 66,
    "start_time": "2022-01-18T16:32:40.802Z"
   },
   {
    "duration": 4,
    "start_time": "2022-01-18T16:34:45.127Z"
   },
   {
    "duration": 15,
    "start_time": "2022-01-18T16:34:47.615Z"
   },
   {
    "duration": 11,
    "start_time": "2022-01-18T16:34:48.901Z"
   },
   {
    "duration": 21,
    "start_time": "2022-01-18T16:34:49.529Z"
   },
   {
    "duration": 12,
    "start_time": "2022-01-18T16:34:50.097Z"
   },
   {
    "duration": 4,
    "start_time": "2022-01-18T16:37:42.742Z"
   },
   {
    "duration": 529,
    "start_time": "2022-01-18T16:37:45.063Z"
   },
   {
    "duration": 4,
    "start_time": "2022-01-18T16:38:50.406Z"
   },
   {
    "duration": 468,
    "start_time": "2022-01-18T16:38:52.468Z"
   },
   {
    "duration": 468,
    "start_time": "2022-01-18T16:39:03.784Z"
   },
   {
    "duration": 5,
    "start_time": "2022-01-18T16:42:36.858Z"
   },
   {
    "duration": 10,
    "start_time": "2022-01-18T16:42:39.244Z"
   },
   {
    "duration": 10,
    "start_time": "2022-01-18T16:42:40.940Z"
   },
   {
    "duration": 10,
    "start_time": "2022-01-18T16:42:41.824Z"
   },
   {
    "duration": 10,
    "start_time": "2022-01-18T16:42:42.360Z"
   },
   {
    "duration": 24,
    "start_time": "2022-01-18T16:48:07.461Z"
   },
   {
    "duration": 10,
    "start_time": "2022-01-18T16:48:14.870Z"
   },
   {
    "duration": 10,
    "start_time": "2022-01-18T16:48:16.331Z"
   },
   {
    "duration": 10,
    "start_time": "2022-01-18T16:48:16.972Z"
   },
   {
    "duration": 9,
    "start_time": "2022-01-18T16:48:17.618Z"
   },
   {
    "duration": 13,
    "start_time": "2022-01-18T16:49:02.084Z"
   },
   {
    "duration": 15,
    "start_time": "2022-01-18T16:52:00.840Z"
   },
   {
    "duration": 9,
    "start_time": "2022-01-18T16:52:01.662Z"
   },
   {
    "duration": 11,
    "start_time": "2022-01-18T16:52:02.400Z"
   },
   {
    "duration": 8,
    "start_time": "2022-01-18T16:52:05.644Z"
   },
   {
    "duration": 18,
    "start_time": "2022-01-18T16:55:33.867Z"
   },
   {
    "duration": 11,
    "start_time": "2022-01-18T16:55:50.373Z"
   },
   {
    "duration": 5,
    "start_time": "2022-01-18T16:56:05.293Z"
   },
   {
    "duration": 16,
    "start_time": "2022-01-18T16:56:09.125Z"
   },
   {
    "duration": 6,
    "start_time": "2022-01-18T16:56:50.279Z"
   },
   {
    "duration": 5,
    "start_time": "2022-01-18T16:56:54.075Z"
   },
   {
    "duration": 10,
    "start_time": "2022-01-18T16:57:32.881Z"
   },
   {
    "duration": 5,
    "start_time": "2022-01-18T16:57:37.653Z"
   },
   {
    "duration": 6,
    "start_time": "2022-01-18T16:57:39.289Z"
   },
   {
    "duration": 5,
    "start_time": "2022-01-18T16:57:40.173Z"
   },
   {
    "duration": 34,
    "start_time": "2022-01-18T17:02:38.457Z"
   },
   {
    "duration": 270,
    "start_time": "2022-01-18T17:07:08.102Z"
   },
   {
    "duration": 534,
    "start_time": "2022-01-18T17:08:05.796Z"
   },
   {
    "duration": 133,
    "start_time": "2022-01-18T17:08:07.332Z"
   },
   {
    "duration": 17,
    "start_time": "2022-01-18T17:08:08.334Z"
   },
   {
    "duration": 26,
    "start_time": "2022-01-18T17:08:10.242Z"
   },
   {
    "duration": 4,
    "start_time": "2022-01-18T17:08:13.646Z"
   },
   {
    "duration": 19,
    "start_time": "2022-01-18T17:08:15.268Z"
   },
   {
    "duration": 4,
    "start_time": "2022-01-18T17:08:16.102Z"
   },
   {
    "duration": 23,
    "start_time": "2022-01-18T17:08:17.071Z"
   },
   {
    "duration": 16,
    "start_time": "2022-01-18T17:08:19.104Z"
   },
   {
    "duration": 22,
    "start_time": "2022-01-18T17:08:20.600Z"
   },
   {
    "duration": 58,
    "start_time": "2022-01-18T17:08:23.662Z"
   },
   {
    "duration": 67,
    "start_time": "2022-01-18T17:10:42.545Z"
   },
   {
    "duration": 51,
    "start_time": "2022-01-18T17:10:43.468Z"
   },
   {
    "duration": 40,
    "start_time": "2022-01-18T17:10:46.603Z"
   },
   {
    "duration": 1424,
    "start_time": "2022-01-19T10:36:38.344Z"
   },
   {
    "duration": 1129,
    "start_time": "2022-01-19T10:36:39.770Z"
   },
   {
    "duration": 15,
    "start_time": "2022-01-19T10:36:40.901Z"
   },
   {
    "duration": 138,
    "start_time": "2022-01-19T10:36:40.917Z"
   },
   {
    "duration": 20,
    "start_time": "2022-01-19T10:36:41.057Z"
   },
   {
    "duration": 38,
    "start_time": "2022-01-19T10:36:41.078Z"
   },
   {
    "duration": 3,
    "start_time": "2022-01-19T10:36:41.118Z"
   },
   {
    "duration": 47,
    "start_time": "2022-01-19T10:36:41.123Z"
   },
   {
    "duration": 17,
    "start_time": "2022-01-19T10:36:41.171Z"
   },
   {
    "duration": 33,
    "start_time": "2022-01-19T10:36:41.189Z"
   },
   {
    "duration": 59,
    "start_time": "2022-01-19T10:36:41.223Z"
   },
   {
    "duration": 55,
    "start_time": "2022-01-19T10:36:41.284Z"
   },
   {
    "duration": 43,
    "start_time": "2022-01-19T10:36:41.340Z"
   },
   {
    "duration": 42,
    "start_time": "2022-01-19T10:36:41.384Z"
   },
   {
    "duration": 2,
    "start_time": "2022-01-19T10:36:41.428Z"
   },
   {
    "duration": 20,
    "start_time": "2022-01-19T10:36:41.432Z"
   },
   {
    "duration": 6,
    "start_time": "2022-01-19T10:36:41.453Z"
   },
   {
    "duration": 34,
    "start_time": "2022-01-19T10:36:41.461Z"
   },
   {
    "duration": 16,
    "start_time": "2022-01-19T10:36:41.497Z"
   },
   {
    "duration": 3,
    "start_time": "2022-01-19T10:36:41.514Z"
   },
   {
    "duration": 37,
    "start_time": "2022-01-19T10:36:41.519Z"
   },
   {
    "duration": 16,
    "start_time": "2022-01-19T10:36:41.557Z"
   },
   {
    "duration": 12,
    "start_time": "2022-01-19T10:36:41.576Z"
   },
   {
    "duration": 15,
    "start_time": "2022-01-19T10:36:41.589Z"
   },
   {
    "duration": 26,
    "start_time": "2022-01-19T10:36:41.605Z"
   },
   {
    "duration": 12,
    "start_time": "2022-01-19T10:36:41.632Z"
   },
   {
    "duration": 12,
    "start_time": "2022-01-19T10:36:41.646Z"
   },
   {
    "duration": 27,
    "start_time": "2022-01-19T10:36:41.659Z"
   },
   {
    "duration": 14,
    "start_time": "2022-01-19T10:36:41.687Z"
   },
   {
    "duration": 16,
    "start_time": "2022-01-19T10:36:41.703Z"
   },
   {
    "duration": 29,
    "start_time": "2022-01-19T10:36:41.720Z"
   },
   {
    "duration": 19,
    "start_time": "2022-01-19T10:36:41.750Z"
   },
   {
    "duration": 21,
    "start_time": "2022-01-19T10:36:41.770Z"
   },
   {
    "duration": 9,
    "start_time": "2022-01-19T10:36:41.792Z"
   },
   {
    "duration": 6,
    "start_time": "2022-01-19T10:36:41.802Z"
   },
   {
    "duration": 15,
    "start_time": "2022-01-19T10:36:41.810Z"
   },
   {
    "duration": 14,
    "start_time": "2022-01-19T10:36:41.827Z"
   },
   {
    "duration": 20,
    "start_time": "2022-01-19T10:36:41.843Z"
   },
   {
    "duration": 4,
    "start_time": "2022-01-19T10:38:29.244Z"
   },
   {
    "duration": 17,
    "start_time": "2022-01-19T10:38:32.262Z"
   },
   {
    "duration": 19,
    "start_time": "2022-01-19T10:38:35.513Z"
   }
  ],
  "colab": {
   "collapsed_sections": [
    "E0vqbgi9ay0H",
    "VUC88oWjTJw2"
   ],
   "name": "yandex_music_project_2021.2.ipynb",
   "provenance": []
  },
  "kernelspec": {
   "display_name": "Python 3 (ipykernel)",
   "language": "python",
   "name": "python3"
  },
  "language_info": {
   "codemirror_mode": {
    "name": "ipython",
    "version": 3
   },
   "file_extension": ".py",
   "mimetype": "text/x-python",
   "name": "python",
   "nbconvert_exporter": "python",
   "pygments_lexer": "ipython3",
   "version": "3.9.7"
  },
  "toc": {
   "base_numbering": 1,
   "nav_menu": {},
   "number_sections": true,
   "sideBar": true,
   "skip_h1_title": true,
   "title_cell": "Table of Contents",
   "title_sidebar": "Contents",
   "toc_cell": false,
   "toc_position": {
    "height": "calc(100% - 180px)",
    "left": "10px",
    "top": "150px",
    "width": "165px"
   },
   "toc_section_display": true,
   "toc_window_display": true
  }
 },
 "nbformat": 4,
 "nbformat_minor": 1
}
